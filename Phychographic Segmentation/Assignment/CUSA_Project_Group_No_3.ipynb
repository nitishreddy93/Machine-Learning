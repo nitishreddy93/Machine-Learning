{
  "nbformat": 4,
  "nbformat_minor": 0,
  "metadata": {
    "colab": {
      "name": "CUSA_Project_Group_No_3.ipynb",
      "version": "0.3.2",
      "views": {},
      "default_view": {},
      "provenance": [],
      "collapsed_sections": []
    },
    "kernelspec": {
      "name": "python3",
      "display_name": "Python 3"
    },
    "accelerator": "GPU"
  },
  "cells": [
    {
      "metadata": {
        "id": "IYHSiQLn5PyK",
        "colab_type": "code",
        "colab": {
          "autoexec": {
            "startup": false,
            "wait_interval": 0
          },
          "base_uri": "https://localhost:8080/",
          "height": 122
        },
        "outputId": "ede8e428-1dd2-4d3d-e28b-e8b5da890963",
        "executionInfo": {
          "status": "ok",
          "timestamp": 1528284659553,
          "user_tz": -330,
          "elapsed": 3575,
          "user": {
            "displayName": "Dwaipayan Kundu",
            "photoUrl": "https://lh3.googleusercontent.com/a/default-user=s128",
            "userId": "102686349398832372219"
          }
        }
      },
      "cell_type": "code",
      "source": [
        "!pip install xlrd"
      ],
      "execution_count": 1,
      "outputs": [
        {
          "output_type": "stream",
          "text": [
            "Collecting xlrd\n",
            "\u001b[?25l  Downloading https://files.pythonhosted.org/packages/07/e6/e95c4eec6221bfd8528bcc4ea252a850bffcc4be88ebc367e23a1a84b0bb/xlrd-1.1.0-py2.py3-none-any.whl (108kB)\n",
            "\u001b[K    100% |████████████████████████████████| 112kB 2.5MB/s \n",
            "\u001b[?25hInstalling collected packages: xlrd\n",
            "Successfully installed xlrd-1.1.0\n"
          ],
          "name": "stdout"
        }
      ]
    },
    {
      "metadata": {
        "id": "zibtQ8vM_ak6",
        "colab_type": "text"
      },
      "cell_type": "markdown",
      "source": [
        "# Data Import"
      ]
    },
    {
      "metadata": {
        "id": "0_vpbWbSv8Fo",
        "colab_type": "code",
        "colab": {
          "autoexec": {
            "startup": false,
            "wait_interval": 0
          },
          "resources": {
            "http://localhost:8080/nbextensions/google.colab/files.js": {
              "data": "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",
              "ok": true,
              "headers": [
                [
                  "content-type",
                  "application/javascript"
                ]
              ],
              "status": 200,
              "status_text": ""
            }
          },
          "base_uri": "https://localhost:8080/",
          "height": 89
        },
        "outputId": "8f5dcee5-35cc-4377-dd23-f105eca8490a",
        "executionInfo": {
          "status": "ok",
          "timestamp": 1528284675457,
          "user_tz": -330,
          "elapsed": 13814,
          "user": {
            "displayName": "Dwaipayan Kundu",
            "photoUrl": "https://lh3.googleusercontent.com/a/default-user=s128",
            "userId": "102686349398832372219"
          }
        }
      },
      "cell_type": "code",
      "source": [
        "from google.colab import files\n",
        "\n",
        "uploaded = files.upload()\n",
        "\n",
        "for fn in uploaded.keys():\n",
        "       print('User uploaded file \"{name}\" with length {length} bytes'.format(name=fn, length=len(uploaded[fn])))"
      ],
      "execution_count": 2,
      "outputs": [
        {
          "output_type": "display_data",
          "data": {
            "text/html": [
              "\n",
              "     <input type=\"file\" id=\"files-cbb17e0d-3be9-4f47-99ae-298f924b79a0\" name=\"files[]\" multiple disabled />\n",
              "     <output id=\"result-cbb17e0d-3be9-4f47-99ae-298f924b79a0\">\n",
              "      Upload widget is only available when the cell has been executed in the\n",
              "      current browser session. Please rerun this cell to enable.\n",
              "      </output>\n",
              "      <script src=\"/nbextensions/google.colab/files.js\"></script> "
            ],
            "text/plain": [
              "<IPython.core.display.HTML object>"
            ]
          },
          "metadata": {
            "tags": []
          }
        },
        {
          "output_type": "stream",
          "text": [
            "Saving DataCUSAAssgn1.xls to DataCUSAAssgn1.xls\n",
            "User uploaded file \"DataCUSAAssgn1.xls\" with length 114176 bytes\n"
          ],
          "name": "stdout"
        }
      ]
    },
    {
      "metadata": {
        "id": "6muYLa6KxQ1J",
        "colab_type": "code",
        "colab": {
          "autoexec": {
            "startup": false,
            "wait_interval": 0
          }
        }
      },
      "cell_type": "code",
      "source": [
        "import pandas as pd\n",
        "import numpy as np\n",
        "\n",
        "import matplotlib.pyplot as plt\n",
        "%matplotlib inline\n",
        "import seaborn as sns"
      ],
      "execution_count": 0,
      "outputs": []
    },
    {
      "metadata": {
        "id": "Qtb7W5f8xQ9P",
        "colab_type": "code",
        "colab": {
          "autoexec": {
            "startup": false,
            "wait_interval": 0
          }
        }
      },
      "cell_type": "code",
      "source": [
        "df = pd.read_excel(\"DataCUSAAssgn1.xls\")"
      ],
      "execution_count": 0,
      "outputs": []
    },
    {
      "metadata": {
        "id": "NgmrrrFrxRDE",
        "colab_type": "code",
        "colab": {
          "autoexec": {
            "startup": false,
            "wait_interval": 0
          },
          "base_uri": "https://localhost:8080/",
          "height": 474
        },
        "outputId": "316e19cb-f3a4-4885-9dcd-792181001ff2",
        "executionInfo": {
          "status": "ok",
          "timestamp": 1528284681526,
          "user_tz": -330,
          "elapsed": 1259,
          "user": {
            "displayName": "Dwaipayan Kundu",
            "photoUrl": "https://lh3.googleusercontent.com/a/default-user=s128",
            "userId": "102686349398832372219"
          }
        }
      },
      "cell_type": "code",
      "source": [
        "df.head()"
      ],
      "execution_count": 5,
      "outputs": [
        {
          "output_type": "execute_result",
          "data": {
            "text/html": [
              "<div>\n",
              "<style scoped>\n",
              "    .dataframe tbody tr th:only-of-type {\n",
              "        vertical-align: middle;\n",
              "    }\n",
              "\n",
              "    .dataframe tbody tr th {\n",
              "        vertical-align: top;\n",
              "    }\n",
              "\n",
              "    .dataframe thead th {\n",
              "        text-align: right;\n",
              "    }\n",
              "</style>\n",
              "<table border=\"1\" class=\"dataframe\">\n",
              "  <thead>\n",
              "    <tr style=\"text-align: right;\">\n",
              "      <th></th>\n",
              "      <th>Srl No</th>\n",
              "      <th>V1 - I plan my expenses…</th>\n",
              "      <th>V2 - I always use new brands…</th>\n",
              "      <th>V3 - Weekends at home with family…</th>\n",
              "      <th>V4 - Buy more by impulse while shopping…</th>\n",
              "      <th>V5 - Watch online rather than TV shows</th>\n",
              "      <th>V6 - Prefer reading, music rather than sports wctivities</th>\n",
              "      <th>V7 - Watch movies in first few days of release</th>\n",
              "      <th>V8 - I order for everyone while eating out</th>\n",
              "      <th>V9 - Some physical exercise everyday</th>\n",
              "      <th>...</th>\n",
              "      <th>Q2 - Mobile Phn Brand</th>\n",
              "      <th>Q3 - Favourite Soft Drink</th>\n",
              "      <th>Q4 - Newspaper read</th>\n",
              "      <th>Q5 - Shower Gel</th>\n",
              "      <th>Q6 - Hand sanitizers</th>\n",
              "      <th>Q7 - Face washes</th>\n",
              "      <th>Q8 - Hair conditioner</th>\n",
              "      <th>Q9 - Tea_Coffee</th>\n",
              "      <th>Q10 - Gender</th>\n",
              "      <th>Q11 - Occupation</th>\n",
              "    </tr>\n",
              "  </thead>\n",
              "  <tbody>\n",
              "    <tr>\n",
              "      <th>0</th>\n",
              "      <td>1</td>\n",
              "      <td>4</td>\n",
              "      <td>9</td>\n",
              "      <td>4</td>\n",
              "      <td>6</td>\n",
              "      <td>9</td>\n",
              "      <td>8</td>\n",
              "      <td>9</td>\n",
              "      <td>8</td>\n",
              "      <td>8</td>\n",
              "      <td>...</td>\n",
              "      <td>Samsung</td>\n",
              "      <td>Cola</td>\n",
              "      <td>Economic Times</td>\n",
              "      <td>3</td>\n",
              "      <td>4</td>\n",
              "      <td>4</td>\n",
              "      <td>3</td>\n",
              "      <td>1</td>\n",
              "      <td>1</td>\n",
              "      <td>1</td>\n",
              "    </tr>\n",
              "    <tr>\n",
              "      <th>1</th>\n",
              "      <td>2</td>\n",
              "      <td>9</td>\n",
              "      <td>6</td>\n",
              "      <td>9</td>\n",
              "      <td>1</td>\n",
              "      <td>5</td>\n",
              "      <td>9</td>\n",
              "      <td>8</td>\n",
              "      <td>8</td>\n",
              "      <td>9</td>\n",
              "      <td>...</td>\n",
              "      <td>Others</td>\n",
              "      <td>Orange</td>\n",
              "      <td>The Hindu</td>\n",
              "      <td>1</td>\n",
              "      <td>2</td>\n",
              "      <td>2</td>\n",
              "      <td>3</td>\n",
              "      <td>1</td>\n",
              "      <td>1</td>\n",
              "      <td>1</td>\n",
              "    </tr>\n",
              "    <tr>\n",
              "      <th>2</th>\n",
              "      <td>3</td>\n",
              "      <td>4</td>\n",
              "      <td>6</td>\n",
              "      <td>5</td>\n",
              "      <td>7</td>\n",
              "      <td>6</td>\n",
              "      <td>5</td>\n",
              "      <td>0</td>\n",
              "      <td>5</td>\n",
              "      <td>3</td>\n",
              "      <td>...</td>\n",
              "      <td>HTC</td>\n",
              "      <td>Fruit flavour</td>\n",
              "      <td>Times of India</td>\n",
              "      <td>2</td>\n",
              "      <td>3</td>\n",
              "      <td>4</td>\n",
              "      <td>3</td>\n",
              "      <td>2</td>\n",
              "      <td>1</td>\n",
              "      <td>1</td>\n",
              "    </tr>\n",
              "    <tr>\n",
              "      <th>3</th>\n",
              "      <td>4</td>\n",
              "      <td>6</td>\n",
              "      <td>9</td>\n",
              "      <td>5</td>\n",
              "      <td>10</td>\n",
              "      <td>10</td>\n",
              "      <td>5</td>\n",
              "      <td>6</td>\n",
              "      <td>5</td>\n",
              "      <td>4</td>\n",
              "      <td>...</td>\n",
              "      <td>Others</td>\n",
              "      <td>I do not consume soft drinks at all</td>\n",
              "      <td>The Hindu</td>\n",
              "      <td>3</td>\n",
              "      <td>3</td>\n",
              "      <td>4</td>\n",
              "      <td>3</td>\n",
              "      <td>1</td>\n",
              "      <td>2</td>\n",
              "      <td>1</td>\n",
              "    </tr>\n",
              "    <tr>\n",
              "      <th>4</th>\n",
              "      <td>5</td>\n",
              "      <td>8</td>\n",
              "      <td>1</td>\n",
              "      <td>9</td>\n",
              "      <td>7</td>\n",
              "      <td>8</td>\n",
              "      <td>9</td>\n",
              "      <td>1</td>\n",
              "      <td>1</td>\n",
              "      <td>7</td>\n",
              "      <td>...</td>\n",
              "      <td>Others</td>\n",
              "      <td>Fruit flavour</td>\n",
              "      <td>Economic Times</td>\n",
              "      <td>2</td>\n",
              "      <td>3</td>\n",
              "      <td>2</td>\n",
              "      <td>2</td>\n",
              "      <td>1</td>\n",
              "      <td>1</td>\n",
              "      <td>1</td>\n",
              "    </tr>\n",
              "  </tbody>\n",
              "</table>\n",
              "<p>5 rows × 26 columns</p>\n",
              "</div>"
            ],
            "text/plain": [
              "   Srl No  V1 - I plan my expenses…  V2 - I always use new brands…  \\\n",
              "0       1                         4                              9   \n",
              "1       2                         9                              6   \n",
              "2       3                         4                              6   \n",
              "3       4                         6                              9   \n",
              "4       5                         8                              1   \n",
              "\n",
              "   V3 - Weekends at home with family…  \\\n",
              "0                                   4   \n",
              "1                                   9   \n",
              "2                                   5   \n",
              "3                                   5   \n",
              "4                                   9   \n",
              "\n",
              "   V4 - Buy more by impulse while shopping…  \\\n",
              "0                                         6   \n",
              "1                                         1   \n",
              "2                                         7   \n",
              "3                                        10   \n",
              "4                                         7   \n",
              "\n",
              "   V5 - Watch online rather than TV shows  \\\n",
              "0                                       9   \n",
              "1                                       5   \n",
              "2                                       6   \n",
              "3                                      10   \n",
              "4                                       8   \n",
              "\n",
              "   V6 - Prefer reading, music rather than sports wctivities  \\\n",
              "0                                                  8          \n",
              "1                                                  9          \n",
              "2                                                  5          \n",
              "3                                                  5          \n",
              "4                                                  9          \n",
              "\n",
              "   V7 - Watch movies in first few days of release  \\\n",
              "0                                               9   \n",
              "1                                               8   \n",
              "2                                               0   \n",
              "3                                               6   \n",
              "4                                               1   \n",
              "\n",
              "   V8 - I order for everyone while eating out  \\\n",
              "0                                           8   \n",
              "1                                           8   \n",
              "2                                           5   \n",
              "3                                           5   \n",
              "4                                           1   \n",
              "\n",
              "   V9 - Some physical exercise everyday        ...         \\\n",
              "0                                     8        ...          \n",
              "1                                     9        ...          \n",
              "2                                     3        ...          \n",
              "3                                     4        ...          \n",
              "4                                     7        ...          \n",
              "\n",
              "   Q2 - Mobile Phn Brand            Q3 - Favourite Soft Drink  \\\n",
              "0                Samsung                                 Cola   \n",
              "1                 Others                               Orange   \n",
              "2                    HTC                        Fruit flavour   \n",
              "3                 Others  I do not consume soft drinks at all   \n",
              "4                 Others                        Fruit flavour   \n",
              "\n",
              "   Q4 - Newspaper read  Q5 - Shower Gel  Q6 - Hand sanitizers  \\\n",
              "0       Economic Times                3                     4   \n",
              "1            The Hindu                1                     2   \n",
              "2       Times of India                2                     3   \n",
              "3            The Hindu                3                     3   \n",
              "4       Economic Times                2                     3   \n",
              "\n",
              "   Q7 - Face washes Q8 - Hair conditioner Q9 - Tea_Coffee Q10 - Gender  \\\n",
              "0                 4                     3               1            1   \n",
              "1                 2                     3               1            1   \n",
              "2                 4                     3               2            1   \n",
              "3                 4                     3               1            2   \n",
              "4                 2                     2               1            1   \n",
              "\n",
              "   Q11 - Occupation  \n",
              "0                 1  \n",
              "1                 1  \n",
              "2                 1  \n",
              "3                 1  \n",
              "4                 1  \n",
              "\n",
              "[5 rows x 26 columns]"
            ]
          },
          "metadata": {
            "tags": []
          },
          "execution_count": 5
        }
      ]
    },
    {
      "metadata": {
        "id": "Zrf4W6724giD",
        "colab_type": "code",
        "colab": {
          "autoexec": {
            "startup": false,
            "wait_interval": 0
          },
          "base_uri": "https://localhost:8080/",
          "height": 34
        },
        "outputId": "6bcf93c7-d1d6-48d7-9016-b63b96aec7c8",
        "executionInfo": {
          "status": "ok",
          "timestamp": 1528284686529,
          "user_tz": -330,
          "elapsed": 1206,
          "user": {
            "displayName": "Dwaipayan Kundu",
            "photoUrl": "https://lh3.googleusercontent.com/a/default-user=s128",
            "userId": "102686349398832372219"
          }
        }
      },
      "cell_type": "code",
      "source": [
        "df.shape"
      ],
      "execution_count": 6,
      "outputs": [
        {
          "output_type": "execute_result",
          "data": {
            "text/plain": [
              "(400, 26)"
            ]
          },
          "metadata": {
            "tags": []
          },
          "execution_count": 6
        }
      ]
    },
    {
      "metadata": {
        "id": "0GScLk3f5bPf",
        "colab_type": "code",
        "colab": {
          "autoexec": {
            "startup": false,
            "wait_interval": 0
          },
          "base_uri": "https://localhost:8080/",
          "height": 340
        },
        "outputId": "5c1d8938-6a9a-4ccf-9f0d-06f095147c8a",
        "executionInfo": {
          "status": "ok",
          "timestamp": 1528284687966,
          "user_tz": -330,
          "elapsed": 1075,
          "user": {
            "displayName": "Dwaipayan Kundu",
            "photoUrl": "https://lh3.googleusercontent.com/a/default-user=s128",
            "userId": "102686349398832372219"
          }
        }
      },
      "cell_type": "code",
      "source": [
        "df.columns.values"
      ],
      "execution_count": 7,
      "outputs": [
        {
          "output_type": "execute_result",
          "data": {
            "text/plain": [
              "array(['Srl No', 'V1 - I plan my expenses…',\n",
              "       'V2 - I always use new brands…',\n",
              "       'V3 - Weekends at home with family…',\n",
              "       'V4 - Buy more by impulse while shopping…',\n",
              "       'V5 - Watch online rather than TV shows',\n",
              "       'V6 - Prefer reading, music rather than sports wctivities',\n",
              "       'V7 - Watch movies in first few days of release',\n",
              "       'V8 - I order for everyone while eating out',\n",
              "       'V9 - Some physical exercise everyday',\n",
              "       'V10 - Prefer light, sober colours',\n",
              "       'V11 - I discuss my problem, rather than keeping them to myself',\n",
              "       'V12 - I like performing on a stage in front of a huge crowd',\n",
              "       'V13 - At parties, I like mingling with new people rather than sticking to my close circle',\n",
              "       'V14 - Math Science were my favourite subjects in school',\n",
              "       'V15 - When I see a new, interesting ad I most often end up buying the brand',\n",
              "       'Q2 - Mobile Phn Brand', 'Q3 - Favourite Soft Drink',\n",
              "       'Q4 - Newspaper read', 'Q5 - Shower Gel', 'Q6 - Hand sanitizers',\n",
              "       'Q7 - Face washes', 'Q8 - Hair conditioner', 'Q9 - Tea_Coffee',\n",
              "       'Q10 - Gender', 'Q11 - Occupation'], dtype=object)"
            ]
          },
          "metadata": {
            "tags": []
          },
          "execution_count": 7
        }
      ]
    },
    {
      "metadata": {
        "id": "8pe1YAkf_VdC",
        "colab_type": "text"
      },
      "cell_type": "markdown",
      "source": [
        "# Necessary Imports"
      ]
    },
    {
      "metadata": {
        "id": "XRirzz1Z_IK8",
        "colab_type": "code",
        "colab": {
          "autoexec": {
            "startup": false,
            "wait_interval": 0
          }
        }
      },
      "cell_type": "code",
      "source": [
        "from sklearn.cluster import KMeans\n",
        "from scipy.cluster.hierarchy import linkage,dendrogram,cut_tree\n",
        "from scipy.stats import kde\n",
        "from sklearn.metrics import silhouette_score, pairwise_distances"
      ],
      "execution_count": 0,
      "outputs": []
    },
    {
      "metadata": {
        "id": "qErUDp90_QvU",
        "colab_type": "text"
      },
      "cell_type": "markdown",
      "source": [
        "# Cluster Analysis 1 :"
      ]
    },
    {
      "metadata": {
        "id": "BO-Fw9RzAEyj",
        "colab_type": "text"
      },
      "cell_type": "markdown",
      "source": [
        "## For Mobile Phone Ownership"
      ]
    },
    {
      "metadata": {
        "id": "4lSc8YNT_IOA",
        "colab_type": "code",
        "colab": {
          "autoexec": {
            "startup": false,
            "wait_interval": 0
          }
        }
      },
      "cell_type": "code",
      "source": [
        "df_phone = df[['Srl No', \n",
        "       'V1 - I plan my expenses…',\n",
        "       'V2 - I always use new brands…',\n",
        "       'V4 - Buy more by impulse while shopping…',\n",
        "       'V5 - Watch online rather than TV shows',\n",
        "       'V6 - Prefer reading, music rather than sports wctivities',\n",
        "       'V8 - I order for everyone while eating out',\n",
        "       'V15 - When I see a new, interesting ad I most often end up buying the brand',\n",
        "       'Q2 - Mobile Phn Brand'\n",
        "      ]]"
      ],
      "execution_count": 0,
      "outputs": []
    },
    {
      "metadata": {
        "id": "GiqtMXIFa95g",
        "colab_type": "code",
        "colab": {
          "autoexec": {
            "startup": false,
            "wait_interval": 0
          }
        }
      },
      "cell_type": "code",
      "source": [
        "from sklearn.preprocessing import LabelEncoder\n",
        "\n",
        "le = LabelEncoder()"
      ],
      "execution_count": 0,
      "outputs": []
    },
    {
      "metadata": {
        "id": "edQ1ohitTO8i",
        "colab_type": "code",
        "colab": {
          "autoexec": {
            "startup": false,
            "wait_interval": 0
          }
        }
      },
      "cell_type": "code",
      "source": [
        "df_phone['Q2 - Mobile Phn Brand'] = le.fit_transform(df_phone['Q2 - Mobile Phn Brand'])"
      ],
      "execution_count": 0,
      "outputs": []
    },
    {
      "metadata": {
        "id": "-nyQm7uuFFmH",
        "colab_type": "code",
        "colab": {
          "autoexec": {
            "startup": false,
            "wait_interval": 0
          }
        }
      },
      "cell_type": "code",
      "source": [
        "from  sklearn.preprocessing import MinMaxScaler\n",
        "\n",
        "mm = MinMaxScaler()\n",
        "\n",
        "df_phone = mm.fit_transform(df_phone.drop('Srl No', axis = 1))"
      ],
      "execution_count": 0,
      "outputs": []
    },
    {
      "metadata": {
        "id": "6vQXqVg_Fgwa",
        "colab_type": "code",
        "colab": {
          "autoexec": {
            "startup": false,
            "wait_interval": 0
          }
        }
      },
      "cell_type": "code",
      "source": [
        "df_phone = pd.DataFrame(df_phone, columns = ['V1 - I plan my expenses…',\n",
        "       'V2 - I always use new brands…',\n",
        "       'V4 - Buy more by impulse while shopping…',\n",
        "       'V5 - Watch online rather than TV shows',\n",
        "       'V6 - Prefer reading, music rather than sports wctivities',\n",
        "       'V8 - I order for everyone while eating out',\n",
        "       'V15 - When I see a new, interesting ad I most often end up buying the brand',\n",
        "                                            'Q2 - Mobile Phn Brand'])"
      ],
      "execution_count": 0,
      "outputs": []
    },
    {
      "metadata": {
        "id": "jFQS_XK5C9of",
        "colab_type": "code",
        "colab": {
          "autoexec": {
            "startup": false,
            "wait_interval": 0
          },
          "base_uri": "https://localhost:8080/",
          "height": 255
        },
        "outputId": "c35450cc-6f53-466e-bd29-5b5c0d9ca4d3",
        "executionInfo": {
          "status": "ok",
          "timestamp": 1528284767266,
          "user_tz": -330,
          "elapsed": 1680,
          "user": {
            "displayName": "Dwaipayan Kundu",
            "photoUrl": "https://lh3.googleusercontent.com/a/default-user=s128",
            "userId": "102686349398832372219"
          }
        }
      },
      "cell_type": "code",
      "source": [
        "df_phone.head()"
      ],
      "execution_count": 14,
      "outputs": [
        {
          "output_type": "execute_result",
          "data": {
            "text/html": [
              "<div>\n",
              "<style scoped>\n",
              "    .dataframe tbody tr th:only-of-type {\n",
              "        vertical-align: middle;\n",
              "    }\n",
              "\n",
              "    .dataframe tbody tr th {\n",
              "        vertical-align: top;\n",
              "    }\n",
              "\n",
              "    .dataframe thead th {\n",
              "        text-align: right;\n",
              "    }\n",
              "</style>\n",
              "<table border=\"1\" class=\"dataframe\">\n",
              "  <thead>\n",
              "    <tr style=\"text-align: right;\">\n",
              "      <th></th>\n",
              "      <th>V1 - I plan my expenses…</th>\n",
              "      <th>V2 - I always use new brands…</th>\n",
              "      <th>V4 - Buy more by impulse while shopping…</th>\n",
              "      <th>V5 - Watch online rather than TV shows</th>\n",
              "      <th>V6 - Prefer reading, music rather than sports wctivities</th>\n",
              "      <th>V8 - I order for everyone while eating out</th>\n",
              "      <th>V15 - When I see a new, interesting ad I most often end up buying the brand</th>\n",
              "      <th>Q2 - Mobile Phn Brand</th>\n",
              "    </tr>\n",
              "  </thead>\n",
              "  <tbody>\n",
              "    <tr>\n",
              "      <th>0</th>\n",
              "      <td>0.4</td>\n",
              "      <td>0.9</td>\n",
              "      <td>0.6</td>\n",
              "      <td>0.9</td>\n",
              "      <td>0.8</td>\n",
              "      <td>0.8</td>\n",
              "      <td>0.7</td>\n",
              "      <td>0.857143</td>\n",
              "    </tr>\n",
              "    <tr>\n",
              "      <th>1</th>\n",
              "      <td>0.9</td>\n",
              "      <td>0.6</td>\n",
              "      <td>0.1</td>\n",
              "      <td>0.5</td>\n",
              "      <td>0.9</td>\n",
              "      <td>0.8</td>\n",
              "      <td>0.2</td>\n",
              "      <td>0.714286</td>\n",
              "    </tr>\n",
              "    <tr>\n",
              "      <th>2</th>\n",
              "      <td>0.4</td>\n",
              "      <td>0.6</td>\n",
              "      <td>0.7</td>\n",
              "      <td>0.6</td>\n",
              "      <td>0.5</td>\n",
              "      <td>0.5</td>\n",
              "      <td>0.3</td>\n",
              "      <td>0.142857</td>\n",
              "    </tr>\n",
              "    <tr>\n",
              "      <th>3</th>\n",
              "      <td>0.6</td>\n",
              "      <td>0.9</td>\n",
              "      <td>1.0</td>\n",
              "      <td>1.0</td>\n",
              "      <td>0.5</td>\n",
              "      <td>0.5</td>\n",
              "      <td>0.6</td>\n",
              "      <td>0.714286</td>\n",
              "    </tr>\n",
              "    <tr>\n",
              "      <th>4</th>\n",
              "      <td>0.8</td>\n",
              "      <td>0.1</td>\n",
              "      <td>0.7</td>\n",
              "      <td>0.8</td>\n",
              "      <td>0.9</td>\n",
              "      <td>0.1</td>\n",
              "      <td>0.2</td>\n",
              "      <td>0.714286</td>\n",
              "    </tr>\n",
              "  </tbody>\n",
              "</table>\n",
              "</div>"
            ],
            "text/plain": [
              "   V1 - I plan my expenses…  V2 - I always use new brands…  \\\n",
              "0                       0.4                            0.9   \n",
              "1                       0.9                            0.6   \n",
              "2                       0.4                            0.6   \n",
              "3                       0.6                            0.9   \n",
              "4                       0.8                            0.1   \n",
              "\n",
              "   V4 - Buy more by impulse while shopping…  \\\n",
              "0                                       0.6   \n",
              "1                                       0.1   \n",
              "2                                       0.7   \n",
              "3                                       1.0   \n",
              "4                                       0.7   \n",
              "\n",
              "   V5 - Watch online rather than TV shows  \\\n",
              "0                                     0.9   \n",
              "1                                     0.5   \n",
              "2                                     0.6   \n",
              "3                                     1.0   \n",
              "4                                     0.8   \n",
              "\n",
              "   V6 - Prefer reading, music rather than sports wctivities  \\\n",
              "0                                                0.8          \n",
              "1                                                0.9          \n",
              "2                                                0.5          \n",
              "3                                                0.5          \n",
              "4                                                0.9          \n",
              "\n",
              "   V8 - I order for everyone while eating out  \\\n",
              "0                                         0.8   \n",
              "1                                         0.8   \n",
              "2                                         0.5   \n",
              "3                                         0.5   \n",
              "4                                         0.1   \n",
              "\n",
              "   V15 - When I see a new, interesting ad I most often end up buying the brand  \\\n",
              "0                                                0.7                             \n",
              "1                                                0.2                             \n",
              "2                                                0.3                             \n",
              "3                                                0.6                             \n",
              "4                                                0.2                             \n",
              "\n",
              "   Q2 - Mobile Phn Brand  \n",
              "0               0.857143  \n",
              "1               0.714286  \n",
              "2               0.142857  \n",
              "3               0.714286  \n",
              "4               0.714286  "
            ]
          },
          "metadata": {
            "tags": []
          },
          "execution_count": 14
        }
      ]
    },
    {
      "metadata": {
        "id": "inNennnl3vzd",
        "colab_type": "code",
        "colab": {
          "autoexec": {
            "startup": false,
            "wait_interval": 0
          }
        }
      },
      "cell_type": "code",
      "source": [
        "from sklearn.decomposition import PCA\n",
        "\n",
        "p = PCA(n_components = 8)"
      ],
      "execution_count": 0,
      "outputs": []
    },
    {
      "metadata": {
        "id": "aQui2lB23_7Z",
        "colab_type": "code",
        "colab": {
          "autoexec": {
            "startup": false,
            "wait_interval": 0
          }
        }
      },
      "cell_type": "code",
      "source": [
        "df_pcs = pd.DataFrame(p.fit_transform(df_phone), columns = ['p1', 'p2', 'p3', 'p4', 'p5', 'p6', 'p7', 'p8'])"
      ],
      "execution_count": 0,
      "outputs": []
    },
    {
      "metadata": {
        "id": "mWNvzare4YLf",
        "colab_type": "code",
        "colab": {
          "autoexec": {
            "startup": false,
            "wait_interval": 0
          }
        }
      },
      "cell_type": "code",
      "source": [
        "df_overall = pd.concat([df_pcs, df_phone], axis = 1)"
      ],
      "execution_count": 0,
      "outputs": []
    },
    {
      "metadata": {
        "id": "Xvpy4TK93__S",
        "colab_type": "code",
        "colab": {
          "autoexec": {
            "startup": false,
            "wait_interval": 0
          },
          "base_uri": "https://localhost:8080/",
          "height": 919
        },
        "outputId": "07991a4e-2949-4d86-e099-3d1997765993",
        "executionInfo": {
          "status": "ok",
          "timestamp": 1528285100938,
          "user_tz": -330,
          "elapsed": 3505,
          "user": {
            "displayName": "Dwaipayan Kundu",
            "photoUrl": "https://lh3.googleusercontent.com/a/default-user=s128",
            "userId": "102686349398832372219"
          }
        }
      },
      "cell_type": "code",
      "source": [
        "c = df_overall.corr()\n",
        "\n",
        "sns.set(font_scale=0.8)\n",
        "sns.set(rc={'figure.figsize':(15,10)})\n",
        "heatmap = sns.heatmap(c, cbar=True, annot=True, square=True, fmt='.2f', \n",
        "                      yticklabels=df_overall.columns.values, xticklabels=df_overall.columns.values)"
      ],
      "execution_count": 23,
      "outputs": [
        {
          "output_type": "display_data",
          "data": {
            "image/png": "[encoded data removed]",
            "text/plain": [
              "<matplotlib.figure.Figure at 0x7f4dfc5f8f28>"
            ]
          },
          "metadata": {
            "tags": []
          }
        }
      ]
    },
    {
      "metadata": {
        "id": "miwp5FId56yQ",
        "colab_type": "code",
        "colab": {
          "autoexec": {
            "startup": false,
            "wait_interval": 0
          },
          "base_uri": "https://localhost:8080/",
          "height": 51
        },
        "outputId": "2a24e788-8e48-4822-a64c-32bc5cd4f8eb",
        "executionInfo": {
          "status": "ok",
          "timestamp": 1528285372246,
          "user_tz": -330,
          "elapsed": 1117,
          "user": {
            "displayName": "Dwaipayan Kundu",
            "photoUrl": "https://lh3.googleusercontent.com/a/default-user=s128",
            "userId": "102686349398832372219"
          }
        }
      },
      "cell_type": "code",
      "source": [
        "p.explained_variance_ratio_"
      ],
      "execution_count": 29,
      "outputs": [
        {
          "output_type": "execute_result",
          "data": {
            "text/plain": [
              "array([0.2076631 , 0.1509153 , 0.14739905, 0.12224068, 0.11602425,\n",
              "       0.10131541, 0.0839667 , 0.0704755 ])"
            ]
          },
          "metadata": {
            "tags": []
          },
          "execution_count": 29
        }
      ]
    },
    {
      "metadata": {
        "id": "hFM7z9D7567Q",
        "colab_type": "code",
        "colab": {
          "autoexec": {
            "startup": false,
            "wait_interval": 0
          },
          "base_uri": "https://localhost:8080/",
          "height": 34
        },
        "outputId": "8d7e7946-9775-4e80-b187-474c3bf4e271",
        "executionInfo": {
          "status": "ok",
          "timestamp": 1528286083996,
          "user_tz": -330,
          "elapsed": 1202,
          "user": {
            "displayName": "Dwaipayan Kundu",
            "photoUrl": "https://lh3.googleusercontent.com/a/default-user=s128",
            "userId": "102686349398832372219"
          }
        }
      },
      "cell_type": "code",
      "source": [
        "round(0.2076631 + 0.1509153 + 0.14739905 + 0.12224068 + 0.11602425 + 0.10131541, 2)*100"
      ],
      "execution_count": 34,
      "outputs": [
        {
          "output_type": "execute_result",
          "data": {
            "text/plain": [
              "85.0"
            ]
          },
          "metadata": {
            "tags": []
          },
          "execution_count": 34
        }
      ]
    },
    {
      "metadata": {
        "id": "hnCO0xLu7-wz",
        "colab_type": "text"
      },
      "cell_type": "markdown",
      "source": [
        "**Explained Variances (Importance of a predictor / Important Drivers) For Mobile Phone Ownership :**"
      ]
    },
    {
      "metadata": {
        "id": "J9eIOTJx57HX",
        "colab_type": "code",
        "colab": {
          "autoexec": {
            "startup": false,
            "wait_interval": 0
          },
          "base_uri": "https://localhost:8080/",
          "height": 119
        },
        "outputId": "5bef0a4e-b4b4-43bf-c7e9-1b3e2bc9f7f8",
        "executionInfo": {
          "status": "ok",
          "timestamp": 1528286399944,
          "user_tz": -330,
          "elapsed": 1093,
          "user": {
            "displayName": "Dwaipayan Kundu",
            "photoUrl": "https://lh3.googleusercontent.com/a/default-user=s128",
            "userId": "102686349398832372219"
          }
        }
      },
      "cell_type": "code",
      "source": [
        "print(\"Relative Importance of V4 - Buy more by impulse while shopping…  : \" )\n",
        "print(round(0.2076631 * 0.81* 100))\n",
        "\n",
        "print(\"Relative Importance of V15 - When I see a new, interesting ad I most often end up buying the brand  : \" )\n",
        "print(round(0.2076631 * 0.63 * 100))\n",
        "\n",
        "print(\"Relative Importance of V8 - I order for everyone while eating out  : \" )\n",
        "print(round(0.1509153 * 0.62 * 100))"
      ],
      "execution_count": 38,
      "outputs": [
        {
          "output_type": "stream",
          "text": [
            "Relative Importance of V4 - Buy more by impulse while shopping…  : \n",
            "17\n",
            "Relative Importance of V15 - When I see a new, interesting ad I most often end up buying the brand  : \n",
            "13\n",
            "Relative Importance of V8 - I order for everyone while eating out  : \n",
            "9\n"
          ],
          "name": "stdout"
        }
      ]
    },
    {
      "metadata": {
        "id": "w1wtWQNW9Vgm",
        "colab_type": "code",
        "colab": {
          "autoexec": {
            "startup": false,
            "wait_interval": 0
          }
        }
      },
      "cell_type": "code",
      "source": [
        "df_work = df_phone[['V4 - Buy more by impulse while shopping…', 'V15 - When I see a new, interesting ad I most often end up buying the brand', 'V8 - I order for everyone while eating out','Q2 - Mobile Phn Brand']]"
      ],
      "execution_count": 0,
      "outputs": []
    },
    {
      "metadata": {
        "id": "Jn5YIWfL_IRG",
        "colab_type": "code",
        "colab": {
          "autoexec": {
            "startup": false,
            "wait_interval": 0
          }
        }
      },
      "cell_type": "code",
      "source": [
        "k_means = KMeans(n_clusters = 3, n_jobs = -1)"
      ],
      "execution_count": 0,
      "outputs": []
    },
    {
      "metadata": {
        "id": "-KE643aPBHN5",
        "colab_type": "code",
        "colab": {
          "autoexec": {
            "startup": false,
            "wait_interval": 0
          },
          "base_uri": "https://localhost:8080/",
          "height": 68
        },
        "outputId": "e59da2bf-9b33-42ac-eb5d-54bceaf49783",
        "executionInfo": {
          "status": "ok",
          "timestamp": 1528286929156,
          "user_tz": -330,
          "elapsed": 1173,
          "user": {
            "displayName": "Dwaipayan Kundu",
            "photoUrl": "https://lh3.googleusercontent.com/a/default-user=s128",
            "userId": "102686349398832372219"
          }
        }
      },
      "cell_type": "code",
      "source": [
        "k_means.fit(df_work)"
      ],
      "execution_count": 47,
      "outputs": [
        {
          "output_type": "execute_result",
          "data": {
            "text/plain": [
              "KMeans(algorithm='auto', copy_x=True, init='k-means++', max_iter=300,\n",
              "    n_clusters=3, n_init=10, n_jobs=-1, precompute_distances='auto',\n",
              "    random_state=None, tol=0.0001, verbose=0)"
            ]
          },
          "metadata": {
            "tags": []
          },
          "execution_count": 47
        }
      ]
    },
    {
      "metadata": {
        "id": "utG3eoitD-X1",
        "colab_type": "code",
        "colab": {
          "autoexec": {
            "startup": false,
            "wait_interval": 0
          },
          "base_uri": "https://localhost:8080/",
          "height": 34
        },
        "outputId": "860579c5-a7df-4aee-e523-6050ead1c4aa",
        "executionInfo": {
          "status": "ok",
          "timestamp": 1528286937551,
          "user_tz": -330,
          "elapsed": 1127,
          "user": {
            "displayName": "Dwaipayan Kundu",
            "photoUrl": "https://lh3.googleusercontent.com/a/default-user=s128",
            "userId": "102686349398832372219"
          }
        }
      },
      "cell_type": "code",
      "source": [
        "print( 'Silhouette Score : ' + str(silhouette_score(df_phone, k_means.labels_)))"
      ],
      "execution_count": 48,
      "outputs": [
        {
          "output_type": "stream",
          "text": [
            "Silhouette Score : 0.14070661452955038\n"
          ],
          "name": "stdout"
        }
      ]
    },
    {
      "metadata": {
        "id": "MIdr-5zyCQqz",
        "colab_type": "code",
        "colab": {
          "autoexec": {
            "startup": false,
            "wait_interval": 0
          }
        }
      },
      "cell_type": "code",
      "source": [
        "df_phone_back = mm.inverse_transform(df_phone)"
      ],
      "execution_count": 0,
      "outputs": []
    },
    {
      "metadata": {
        "id": "clpc6h7eCpjY",
        "colab_type": "code",
        "colab": {
          "autoexec": {
            "startup": false,
            "wait_interval": 0
          }
        }
      },
      "cell_type": "code",
      "source": [
        "df_phone_back = pd.DataFrame(df_phone_back, columns = ['V1 - I plan my expenses…',\n",
        "       'V2 - I always use new brands…',\n",
        "       'V4 - Buy more by impulse while shopping…',\n",
        "       'V5 - Watch online rather than TV shows',\n",
        "       'V6 - Prefer reading, music rather than sports wctivities',\n",
        "       'V8 - I order for everyone while eating out',\n",
        "       'V15 - When I see a new, interesting ad I most often end up buying the brand',\n",
        "                                            'Q2 - Mobile Phn Brand'])"
      ],
      "execution_count": 0,
      "outputs": []
    },
    {
      "metadata": {
        "id": "36D0JSuIBgPq",
        "colab_type": "code",
        "colab": {
          "autoexec": {
            "startup": false,
            "wait_interval": 0
          }
        }
      },
      "cell_type": "code",
      "source": [
        "df_work = df_phone_back[['V4 - Buy more by impulse while shopping…', 'V15 - When I see a new, interesting ad I most often end up buying the brand', 'V8 - I order for everyone while eating out','Q2 - Mobile Phn Brand']]"
      ],
      "execution_count": 0,
      "outputs": []
    },
    {
      "metadata": {
        "id": "QdefkWB2ABb8",
        "colab_type": "code",
        "colab": {
          "autoexec": {
            "startup": false,
            "wait_interval": 0
          }
        }
      },
      "cell_type": "code",
      "source": [
        "df_work = pd.concat([df_work, pd.DataFrame(k_means.labels_, columns = ['Labels'])], axis = 1)"
      ],
      "execution_count": 0,
      "outputs": []
    },
    {
      "metadata": {
        "id": "obhaBNX6BY5K",
        "colab_type": "code",
        "colab": {
          "autoexec": {
            "startup": false,
            "wait_interval": 0
          },
          "base_uri": "https://localhost:8080/",
          "height": 221
        },
        "outputId": "f921da55-1c4a-4ac6-cb7d-fe54b1f208aa",
        "executionInfo": {
          "status": "ok",
          "timestamp": 1528287709046,
          "user_tz": -330,
          "elapsed": 1100,
          "user": {
            "displayName": "Dwaipayan Kundu",
            "photoUrl": "https://lh3.googleusercontent.com/a/default-user=s128",
            "userId": "102686349398832372219"
          }
        }
      },
      "cell_type": "code",
      "source": [
        "df_work.head()"
      ],
      "execution_count": 67,
      "outputs": [
        {
          "output_type": "execute_result",
          "data": {
            "text/html": [
              "<div>\n",
              "<style scoped>\n",
              "    .dataframe tbody tr th:only-of-type {\n",
              "        vertical-align: middle;\n",
              "    }\n",
              "\n",
              "    .dataframe tbody tr th {\n",
              "        vertical-align: top;\n",
              "    }\n",
              "\n",
              "    .dataframe thead th {\n",
              "        text-align: right;\n",
              "    }\n",
              "</style>\n",
              "<table border=\"1\" class=\"dataframe\">\n",
              "  <thead>\n",
              "    <tr style=\"text-align: right;\">\n",
              "      <th></th>\n",
              "      <th>V4 - Buy more by impulse while shopping…</th>\n",
              "      <th>V15 - When I see a new, interesting ad I most often end up buying the brand</th>\n",
              "      <th>V8 - I order for everyone while eating out</th>\n",
              "      <th>Q2 - Mobile Phn Brand</th>\n",
              "      <th>Labels</th>\n",
              "    </tr>\n",
              "  </thead>\n",
              "  <tbody>\n",
              "    <tr>\n",
              "      <th>0</th>\n",
              "      <td>6.0</td>\n",
              "      <td>7.0</td>\n",
              "      <td>8.0</td>\n",
              "      <td>6.0</td>\n",
              "      <td>2</td>\n",
              "    </tr>\n",
              "    <tr>\n",
              "      <th>1</th>\n",
              "      <td>1.0</td>\n",
              "      <td>2.0</td>\n",
              "      <td>8.0</td>\n",
              "      <td>5.0</td>\n",
              "      <td>0</td>\n",
              "    </tr>\n",
              "    <tr>\n",
              "      <th>2</th>\n",
              "      <td>7.0</td>\n",
              "      <td>3.0</td>\n",
              "      <td>5.0</td>\n",
              "      <td>1.0</td>\n",
              "      <td>1</td>\n",
              "    </tr>\n",
              "    <tr>\n",
              "      <th>3</th>\n",
              "      <td>10.0</td>\n",
              "      <td>6.0</td>\n",
              "      <td>5.0</td>\n",
              "      <td>5.0</td>\n",
              "      <td>2</td>\n",
              "    </tr>\n",
              "    <tr>\n",
              "      <th>4</th>\n",
              "      <td>7.0</td>\n",
              "      <td>2.0</td>\n",
              "      <td>1.0</td>\n",
              "      <td>5.0</td>\n",
              "      <td>2</td>\n",
              "    </tr>\n",
              "  </tbody>\n",
              "</table>\n",
              "</div>"
            ],
            "text/plain": [
              "   V4 - Buy more by impulse while shopping…  \\\n",
              "0                                       6.0   \n",
              "1                                       1.0   \n",
              "2                                       7.0   \n",
              "3                                      10.0   \n",
              "4                                       7.0   \n",
              "\n",
              "   V15 - When I see a new, interesting ad I most often end up buying the brand  \\\n",
              "0                                                7.0                             \n",
              "1                                                2.0                             \n",
              "2                                                3.0                             \n",
              "3                                                6.0                             \n",
              "4                                                2.0                             \n",
              "\n",
              "   V8 - I order for everyone while eating out  Q2 - Mobile Phn Brand  Labels  \n",
              "0                                         8.0                    6.0       2  \n",
              "1                                         8.0                    5.0       0  \n",
              "2                                         5.0                    1.0       1  \n",
              "3                                         5.0                    5.0       2  \n",
              "4                                         1.0                    5.0       2  "
            ]
          },
          "metadata": {
            "tags": []
          },
          "execution_count": 67
        }
      ]
    },
    {
      "metadata": {
        "id": "YRukyoKHBY-d",
        "colab_type": "code",
        "colab": {
          "autoexec": {
            "startup": false,
            "wait_interval": 0
          },
          "base_uri": "https://localhost:8080/",
          "height": 337
        },
        "outputId": "35f68a59-c081-4f0b-d0ee-07b1e7ff98ad",
        "executionInfo": {
          "status": "ok",
          "timestamp": 1528295471755,
          "user_tz": -330,
          "elapsed": 1214,
          "user": {
            "displayName": "Dwaipayan Kundu",
            "photoUrl": "https://lh3.googleusercontent.com/a/default-user=s128",
            "userId": "102686349398832372219"
          }
        }
      },
      "cell_type": "code",
      "source": [
        "df_work[df_work['Labels']==0]['V15 - When I see a new, interesting ad I most often end up buying the brand'].hist()"
      ],
      "execution_count": 160,
      "outputs": [
        {
          "output_type": "execute_result",
          "data": {
            "text/plain": [
              "<matplotlib.axes._subplots.AxesSubplot at 0x7f4df5655ef0>"
            ]
          },
          "metadata": {
            "tags": []
          },
          "execution_count": 160
        },
        {
          "output_type": "display_data",
          "data": {
            "image/png": "[encoded data removed]",
            "text/plain": [
              "<matplotlib.figure.Figure at 0x7f4df6eee278>"
            ]
          },
          "metadata": {
            "tags": []
          }
        }
      ]
    },
    {
      "metadata": {
        "id": "kT76rUkIBZIm",
        "colab_type": "code",
        "colab": {
          "autoexec": {
            "startup": false,
            "wait_interval": 0
          },
          "base_uri": "https://localhost:8080/",
          "height": 221
        },
        "outputId": "e851a61b-ce83-45ae-e6a0-7331079e2e91",
        "executionInfo": {
          "status": "ok",
          "timestamp": 1528288617001,
          "user_tz": -330,
          "elapsed": 1424,
          "user": {
            "displayName": "Dwaipayan Kundu",
            "photoUrl": "https://lh3.googleusercontent.com/a/default-user=s128",
            "userId": "102686349398832372219"
          }
        }
      },
      "cell_type": "code",
      "source": [
        "df_work.head()"
      ],
      "execution_count": 75,
      "outputs": [
        {
          "output_type": "execute_result",
          "data": {
            "text/html": [
              "<div>\n",
              "<style scoped>\n",
              "    .dataframe tbody tr th:only-of-type {\n",
              "        vertical-align: middle;\n",
              "    }\n",
              "\n",
              "    .dataframe tbody tr th {\n",
              "        vertical-align: top;\n",
              "    }\n",
              "\n",
              "    .dataframe thead th {\n",
              "        text-align: right;\n",
              "    }\n",
              "</style>\n",
              "<table border=\"1\" class=\"dataframe\">\n",
              "  <thead>\n",
              "    <tr style=\"text-align: right;\">\n",
              "      <th></th>\n",
              "      <th>V4 - Buy more by impulse while shopping…</th>\n",
              "      <th>V15 - When I see a new, interesting ad I most often end up buying the brand</th>\n",
              "      <th>V8 - I order for everyone while eating out</th>\n",
              "      <th>Q2 - Mobile Phn Brand</th>\n",
              "      <th>Labels</th>\n",
              "    </tr>\n",
              "  </thead>\n",
              "  <tbody>\n",
              "    <tr>\n",
              "      <th>0</th>\n",
              "      <td>6.0</td>\n",
              "      <td>7.0</td>\n",
              "      <td>8.0</td>\n",
              "      <td>6.0</td>\n",
              "      <td>2</td>\n",
              "    </tr>\n",
              "    <tr>\n",
              "      <th>1</th>\n",
              "      <td>1.0</td>\n",
              "      <td>2.0</td>\n",
              "      <td>8.0</td>\n",
              "      <td>5.0</td>\n",
              "      <td>0</td>\n",
              "    </tr>\n",
              "    <tr>\n",
              "      <th>2</th>\n",
              "      <td>7.0</td>\n",
              "      <td>3.0</td>\n",
              "      <td>5.0</td>\n",
              "      <td>1.0</td>\n",
              "      <td>1</td>\n",
              "    </tr>\n",
              "    <tr>\n",
              "      <th>3</th>\n",
              "      <td>10.0</td>\n",
              "      <td>6.0</td>\n",
              "      <td>5.0</td>\n",
              "      <td>5.0</td>\n",
              "      <td>2</td>\n",
              "    </tr>\n",
              "    <tr>\n",
              "      <th>4</th>\n",
              "      <td>7.0</td>\n",
              "      <td>2.0</td>\n",
              "      <td>1.0</td>\n",
              "      <td>5.0</td>\n",
              "      <td>2</td>\n",
              "    </tr>\n",
              "  </tbody>\n",
              "</table>\n",
              "</div>"
            ],
            "text/plain": [
              "   V4 - Buy more by impulse while shopping…  \\\n",
              "0                                       6.0   \n",
              "1                                       1.0   \n",
              "2                                       7.0   \n",
              "3                                      10.0   \n",
              "4                                       7.0   \n",
              "\n",
              "   V15 - When I see a new, interesting ad I most often end up buying the brand  \\\n",
              "0                                                7.0                             \n",
              "1                                                2.0                             \n",
              "2                                                3.0                             \n",
              "3                                                6.0                             \n",
              "4                                                2.0                             \n",
              "\n",
              "   V8 - I order for everyone while eating out  Q2 - Mobile Phn Brand  Labels  \n",
              "0                                         8.0                    6.0       2  \n",
              "1                                         8.0                    5.0       0  \n",
              "2                                         5.0                    1.0       1  \n",
              "3                                         5.0                    5.0       2  \n",
              "4                                         1.0                    5.0       2  "
            ]
          },
          "metadata": {
            "tags": []
          },
          "execution_count": 75
        }
      ]
    },
    {
      "metadata": {
        "id": "mfSgvWM1BZET",
        "colab_type": "code",
        "colab": {
          "autoexec": {
            "startup": false,
            "wait_interval": 0
          }
        }
      },
      "cell_type": "code",
      "source": [
        "df_work['Q2 - Mobile Phn Brand'] = le.inverse_transform(df_work['Q2 - Mobile Phn Brand'].apply(lambda x: int(x)))"
      ],
      "execution_count": 0,
      "outputs": []
    },
    {
      "metadata": {
        "id": "Rr6Tqh40GdNo",
        "colab_type": "code",
        "colab": {
          "autoexec": {
            "startup": false,
            "wait_interval": 0
          },
          "base_uri": "https://localhost:8080/",
          "height": 221
        },
        "outputId": "8483f71c-a996-478c-f601-2b26b4dff47f",
        "executionInfo": {
          "status": "ok",
          "timestamp": 1528295602726,
          "user_tz": -330,
          "elapsed": 1120,
          "user": {
            "displayName": "Dwaipayan Kundu",
            "photoUrl": "https://lh3.googleusercontent.com/a/default-user=s128",
            "userId": "102686349398832372219"
          }
        }
      },
      "cell_type": "code",
      "source": [
        "sns.set(font_scale=0.8)\n",
        "sns.set(rc={'figure.figsize':(10, 2)})\n",
        "\n",
        "df_p = df_work.groupby(['Q2 - Mobile Phn Brand', 'Labels']).size().unstack()\n",
        "df_p.round()\n",
        "df_p = df_p / df_p.sum()\n",
        "df_p.plot(kind = 'bar')"
      ],
      "execution_count": 167,
      "outputs": [
        {
          "output_type": "execute_result",
          "data": {
            "text/plain": [
              "<matplotlib.axes._subplots.AxesSubplot at 0x7f4df5d319b0>"
            ]
          },
          "metadata": {
            "tags": []
          },
          "execution_count": 167
        },
        {
          "output_type": "display_data",
          "data": {
            "image/png": "[encoded data removed]",
            "text/plain": [
              "<matplotlib.figure.Figure at 0x7f4df5d5fb38>"
            ]
          },
          "metadata": {
            "tags": []
          }
        }
      ]
    },
    {
      "metadata": {
        "id": "2Y553-QaivKY",
        "colab_type": "code",
        "colab": {
          "autoexec": {
            "startup": false,
            "wait_interval": 0
          },
          "base_uri": "https://localhost:8080/",
          "height": 276
        },
        "outputId": "51bf177e-8f4a-4047-99e0-376211c5e59d",
        "executionInfo": {
          "status": "ok",
          "timestamp": 1528296063527,
          "user_tz": -330,
          "elapsed": 1293,
          "user": {
            "displayName": "Dwaipayan Kundu",
            "photoUrl": "https://lh3.googleusercontent.com/a/default-user=s128",
            "userId": "102686349398832372219"
          }
        }
      },
      "cell_type": "code",
      "source": [
        "\n",
        "\n",
        "sns.set(font_scale=0.8)\n",
        "sns.set(rc={'figure.figsize':(10, 2)})\n",
        "\n",
        "df_p = df_work.groupby(['V15 - When I see a new, interesting ad I most often end up buying the brand', 'Labels']).size().unstack()\n",
        "df_p.round()\n",
        "df_p = df_p / df_p.sum()\n",
        "df_p.plot(kind = 'bar')"
      ],
      "execution_count": 168,
      "outputs": [
        {
          "output_type": "execute_result",
          "data": {
            "text/plain": [
              "<matplotlib.axes._subplots.AxesSubplot at 0x7f4df4dfbbe0>"
            ]
          },
          "metadata": {
            "tags": []
          },
          "execution_count": 168
        },
        {
          "output_type": "display_data",
          "data": {
            "image/png": "[encoded data removed]",
            "text/plain": [
              "<matplotlib.figure.Figure at 0x7f4df4f5c9e8>"
            ]
          },
          "metadata": {
            "tags": []
          }
        }
      ]
    },
    {
      "metadata": {
        "id": "By4u-ehESgBI",
        "colab_type": "code",
        "colab": {
          "autoexec": {
            "startup": false,
            "wait_interval": 0
          },
          "base_uri": "https://localhost:8080/",
          "height": 159
        },
        "outputId": "48943335-525a-4748-b431-9ca977a410b9",
        "executionInfo": {
          "status": "ok",
          "timestamp": 1528293276294,
          "user_tz": -330,
          "elapsed": 1074,
          "user": {
            "displayName": "Dwaipayan Kundu",
            "photoUrl": "https://lh3.googleusercontent.com/a/default-user=s128",
            "userId": "102686349398832372219"
          }
        }
      },
      "cell_type": "code",
      "source": [
        "centers"
      ],
      "execution_count": 132,
      "outputs": [
        {
          "output_type": "execute_result",
          "data": {
            "text/html": [
              "<div>\n",
              "<style scoped>\n",
              "    .dataframe tbody tr th:only-of-type {\n",
              "        vertical-align: middle;\n",
              "    }\n",
              "\n",
              "    .dataframe tbody tr th {\n",
              "        vertical-align: top;\n",
              "    }\n",
              "\n",
              "    .dataframe thead th {\n",
              "        text-align: right;\n",
              "    }\n",
              "</style>\n",
              "<table border=\"1\" class=\"dataframe\">\n",
              "  <thead>\n",
              "    <tr style=\"text-align: right;\">\n",
              "      <th></th>\n",
              "      <th>V4 - Buy more by impulse while shopping…</th>\n",
              "      <th>V15 - When I see a new, interesting ad I most often end up buying the brand</th>\n",
              "      <th>V8 - I order for everyone while eating out</th>\n",
              "      <th>Q2 - Mobile Phn Brand</th>\n",
              "    </tr>\n",
              "  </thead>\n",
              "  <tbody>\n",
              "    <tr>\n",
              "      <th>0</th>\n",
              "      <td>0.216547</td>\n",
              "      <td>0.350360</td>\n",
              "      <td>0.512950</td>\n",
              "      <td>0.697842</td>\n",
              "    </tr>\n",
              "    <tr>\n",
              "      <th>1</th>\n",
              "      <td>0.725974</td>\n",
              "      <td>0.554545</td>\n",
              "      <td>0.602597</td>\n",
              "      <td>0.048237</td>\n",
              "    </tr>\n",
              "    <tr>\n",
              "      <th>2</th>\n",
              "      <td>0.778261</td>\n",
              "      <td>0.520652</td>\n",
              "      <td>0.600000</td>\n",
              "      <td>0.732919</td>\n",
              "    </tr>\n",
              "  </tbody>\n",
              "</table>\n",
              "</div>"
            ],
            "text/plain": [
              "   V4 - Buy more by impulse while shopping…  \\\n",
              "0                                  0.216547   \n",
              "1                                  0.725974   \n",
              "2                                  0.778261   \n",
              "\n",
              "   V15 - When I see a new, interesting ad I most often end up buying the brand  \\\n",
              "0                                           0.350360                             \n",
              "1                                           0.554545                             \n",
              "2                                           0.520652                             \n",
              "\n",
              "   V8 - I order for everyone while eating out  Q2 - Mobile Phn Brand  \n",
              "0                                    0.512950               0.697842  \n",
              "1                                    0.602597               0.048237  \n",
              "2                                    0.600000               0.732919  "
            ]
          },
          "metadata": {
            "tags": []
          },
          "execution_count": 132
        }
      ]
    },
    {
      "metadata": {
        "id": "vMk6HFy_ABoW",
        "colab_type": "code",
        "colab": {
          "autoexec": {
            "startup": false,
            "wait_interval": 0
          },
          "base_uri": "https://localhost:8080/",
          "height": 159
        },
        "outputId": "ac559900-da8b-42c3-e4ed-2211899d4579",
        "executionInfo": {
          "status": "ok",
          "timestamp": 1528294822501,
          "user_tz": -330,
          "elapsed": 1097,
          "user": {
            "displayName": "Dwaipayan Kundu",
            "photoUrl": "https://lh3.googleusercontent.com/a/default-user=s128",
            "userId": "102686349398832372219"
          }
        }
      },
      "cell_type": "code",
      "source": [
        "centers.apply(lambda x: (x - 1)*100/9).abs().round()"
      ],
      "execution_count": 158,
      "outputs": [
        {
          "output_type": "execute_result",
          "data": {
            "text/html": [
              "<div>\n",
              "<style scoped>\n",
              "    .dataframe tbody tr th:only-of-type {\n",
              "        vertical-align: middle;\n",
              "    }\n",
              "\n",
              "    .dataframe tbody tr th {\n",
              "        vertical-align: top;\n",
              "    }\n",
              "\n",
              "    .dataframe thead th {\n",
              "        text-align: right;\n",
              "    }\n",
              "</style>\n",
              "<table border=\"1\" class=\"dataframe\">\n",
              "  <thead>\n",
              "    <tr style=\"text-align: right;\">\n",
              "      <th></th>\n",
              "      <th>V4 - Buy more by impulse while shopping…</th>\n",
              "      <th>V15 - When I see a new, interesting ad I most often end up buying the brand</th>\n",
              "      <th>V8 - I order for everyone while eating out</th>\n",
              "      <th>Q2 - Mobile Phn Brand</th>\n",
              "    </tr>\n",
              "  </thead>\n",
              "  <tbody>\n",
              "    <tr>\n",
              "      <th>0</th>\n",
              "      <td>9.0</td>\n",
              "      <td>7.0</td>\n",
              "      <td>5.0</td>\n",
              "      <td>3.0</td>\n",
              "    </tr>\n",
              "    <tr>\n",
              "      <th>1</th>\n",
              "      <td>3.0</td>\n",
              "      <td>5.0</td>\n",
              "      <td>4.0</td>\n",
              "      <td>11.0</td>\n",
              "    </tr>\n",
              "    <tr>\n",
              "      <th>2</th>\n",
              "      <td>2.0</td>\n",
              "      <td>5.0</td>\n",
              "      <td>4.0</td>\n",
              "      <td>3.0</td>\n",
              "    </tr>\n",
              "  </tbody>\n",
              "</table>\n",
              "</div>"
            ],
            "text/plain": [
              "   V4 - Buy more by impulse while shopping…  \\\n",
              "0                                       9.0   \n",
              "1                                       3.0   \n",
              "2                                       2.0   \n",
              "\n",
              "   V15 - When I see a new, interesting ad I most often end up buying the brand  \\\n",
              "0                                                7.0                             \n",
              "1                                                5.0                             \n",
              "2                                                5.0                             \n",
              "\n",
              "   V8 - I order for everyone while eating out  Q2 - Mobile Phn Brand  \n",
              "0                                         5.0                    3.0  \n",
              "1                                         4.0                   11.0  \n",
              "2                                         4.0                    3.0  "
            ]
          },
          "metadata": {
            "tags": []
          },
          "execution_count": 158
        }
      ]
    },
    {
      "metadata": {
        "id": "eUdprLouOjPx",
        "colab_type": "text"
      },
      "cell_type": "markdown",
      "source": [
        "### Using Kernal PCA for linearly unseparable data"
      ]
    },
    {
      "metadata": {
        "id": "-2q0gU8e_PhV",
        "colab_type": "code",
        "colab": {
          "autoexec": {
            "startup": false,
            "wait_interval": 0
          }
        }
      },
      "cell_type": "code",
      "source": [
        "from sklearn.decomposition import PCA, KernelPCA"
      ],
      "execution_count": 0,
      "outputs": []
    },
    {
      "metadata": {
        "id": "uNOguASVJaeD",
        "colab_type": "code",
        "colab": {
          "autoexec": {
            "startup": false,
            "wait_interval": 0
          },
          "base_uri": "https://localhost:8080/",
          "height": 34
        },
        "outputId": "1a69bba7-76bd-44ff-b2d1-38b36838c575",
        "executionInfo": {
          "status": "ok",
          "timestamp": 1528277442736,
          "user_tz": -330,
          "elapsed": 1151,
          "user": {
            "displayName": "Dwaipayan Kundu",
            "photoUrl": "https://lh3.googleusercontent.com/a/default-user=s128",
            "userId": "102686349398832372219"
          }
        }
      },
      "cell_type": "code",
      "source": [
        "df_phone.shape"
      ],
      "execution_count": 213,
      "outputs": [
        {
          "output_type": "execute_result",
          "data": {
            "text/plain": [
              "(400, 8)"
            ]
          },
          "metadata": {
            "tags": []
          },
          "execution_count": 213
        }
      ]
    },
    {
      "metadata": {
        "id": "5iUURHH4_PkD",
        "colab_type": "code",
        "colab": {
          "autoexec": {
            "startup": false,
            "wait_interval": 0
          }
        }
      },
      "cell_type": "code",
      "source": [
        "kpca = KernelPCA(kernel=\"rbf\", fit_inverse_transform=True, gamma=10, n_components = 14)\n",
        "X_kpca = kpca.fit_transform(df_phone)"
      ],
      "execution_count": 0,
      "outputs": []
    },
    {
      "metadata": {
        "id": "5Swxs33F_PqY",
        "colab_type": "code",
        "colab": {
          "autoexec": {
            "startup": false,
            "wait_interval": 0
          },
          "base_uri": "https://localhost:8080/",
          "height": 34
        },
        "outputId": "8a353c9e-c459-4b31-f028-481490898ba1",
        "executionInfo": {
          "status": "ok",
          "timestamp": 1528277463623,
          "user_tz": -330,
          "elapsed": 1176,
          "user": {
            "displayName": "Dwaipayan Kundu",
            "photoUrl": "https://lh3.googleusercontent.com/a/default-user=s128",
            "userId": "102686349398832372219"
          }
        }
      },
      "cell_type": "code",
      "source": [
        "X_kpca.shape"
      ],
      "execution_count": 219,
      "outputs": [
        {
          "output_type": "execute_result",
          "data": {
            "text/plain": [
              "(400, 14)"
            ]
          },
          "metadata": {
            "tags": []
          },
          "execution_count": 219
        }
      ]
    },
    {
      "metadata": {
        "id": "TXletdSS_Ptc",
        "colab_type": "code",
        "colab": {
          "autoexec": {
            "startup": false,
            "wait_interval": 0
          },
          "base_uri": "https://localhost:8080/",
          "height": 68
        },
        "outputId": "c9b4b6cd-c593-4d56-fd43-e284cb22cf7e",
        "executionInfo": {
          "status": "ok",
          "timestamp": 1528277465676,
          "user_tz": -330,
          "elapsed": 1145,
          "user": {
            "displayName": "Dwaipayan Kundu",
            "photoUrl": "https://lh3.googleusercontent.com/a/default-user=s128",
            "userId": "102686349398832372219"
          }
        }
      },
      "cell_type": "code",
      "source": [
        "k_means.fit(X_kpca)"
      ],
      "execution_count": 220,
      "outputs": [
        {
          "output_type": "execute_result",
          "data": {
            "text/plain": [
              "KMeans(algorithm='auto', copy_x=True, init='k-means++', max_iter=300,\n",
              "    n_clusters=3, n_init=10, n_jobs=-1, precompute_distances='auto',\n",
              "    random_state=None, tol=0.0001, verbose=0)"
            ]
          },
          "metadata": {
            "tags": []
          },
          "execution_count": 220
        }
      ]
    },
    {
      "metadata": {
        "id": "pEzolEwv_Pwv",
        "colab_type": "code",
        "colab": {
          "autoexec": {
            "startup": false,
            "wait_interval": 0
          },
          "base_uri": "https://localhost:8080/",
          "height": 34
        },
        "outputId": "be4871ce-c21f-4739-9441-2e9066a59dcb",
        "executionInfo": {
          "status": "ok",
          "timestamp": 1528277468151,
          "user_tz": -330,
          "elapsed": 1229,
          "user": {
            "displayName": "Dwaipayan Kundu",
            "photoUrl": "https://lh3.googleusercontent.com/a/default-user=s128",
            "userId": "102686349398832372219"
          }
        }
      },
      "cell_type": "code",
      "source": [
        "print( 'Silhouette Score : ' + str(silhouette_score(X_kpca, k_means.labels_)))"
      ],
      "execution_count": 221,
      "outputs": [
        {
          "output_type": "stream",
          "text": [
            "Silhouette Score : 0.48573694958933417\n"
          ],
          "name": "stdout"
        }
      ]
    },
    {
      "metadata": {
        "id": "KG_11iqb_P0B",
        "colab_type": "code",
        "colab": {
          "autoexec": {
            "startup": false,
            "wait_interval": 0
          }
        }
      },
      "cell_type": "code",
      "source": [
        "centers = pd.DataFrame(k_means.cluster_centers_)"
      ],
      "execution_count": 0,
      "outputs": []
    },
    {
      "metadata": {
        "id": "dEk1FS8r_P3K",
        "colab_type": "code",
        "colab": {
          "autoexec": {
            "startup": false,
            "wait_interval": 0
          }
        }
      },
      "cell_type": "code",
      "source": [
        "Centers_Back = kpca.inverse_transform(centers)"
      ],
      "execution_count": 0,
      "outputs": []
    },
    {
      "metadata": {
        "id": "kcbWvYs4_IUr",
        "colab_type": "code",
        "colab": {
          "autoexec": {
            "startup": false,
            "wait_interval": 0
          },
          "base_uri": "https://localhost:8080/",
          "height": 34
        },
        "outputId": "f7fee8f5-d609-4115-ffd1-38cc33bebbc3",
        "executionInfo": {
          "status": "ok",
          "timestamp": 1528277477967,
          "user_tz": -330,
          "elapsed": 1041,
          "user": {
            "displayName": "Dwaipayan Kundu",
            "photoUrl": "https://lh3.googleusercontent.com/a/default-user=s128",
            "userId": "102686349398832372219"
          }
        }
      },
      "cell_type": "code",
      "source": [
        "Centers_Back.shape"
      ],
      "execution_count": 224,
      "outputs": [
        {
          "output_type": "execute_result",
          "data": {
            "text/plain": [
              "(3, 8)"
            ]
          },
          "metadata": {
            "tags": []
          },
          "execution_count": 224
        }
      ]
    },
    {
      "metadata": {
        "id": "w79s0Saw_IYZ",
        "colab_type": "code",
        "colab": {
          "autoexec": {
            "startup": false,
            "wait_interval": 0
          }
        }
      },
      "cell_type": "code",
      "source": [
        "centers = pd.DataFrame(Centers_Back, columns = ['V1 - I plan my expenses…',\n",
        "       'V2 - I always use new brands…',\n",
        "       'V4 - Buy more by impulse while shopping…',\n",
        "       'V5 - Watch online rather than TV shows',\n",
        "       'V6 - Prefer reading, music rather than sports wctivities',\n",
        "       'V8 - I order for everyone while eating out',\n",
        "       'V15 - When I see a new, interesting ad I most often end up buying the brand',\n",
        "       'Q2 - Mobile Phn Brand'])"
      ],
      "execution_count": 0,
      "outputs": []
    },
    {
      "metadata": {
        "id": "WQhMOF83LBNZ",
        "colab_type": "code",
        "colab": {
          "autoexec": {
            "startup": false,
            "wait_interval": 0
          },
          "base_uri": "https://localhost:8080/",
          "height": 193
        },
        "outputId": "23887cd2-b590-4a79-cd2b-8f6049e1b5ee",
        "executionInfo": {
          "status": "ok",
          "timestamp": 1528277485838,
          "user_tz": -330,
          "elapsed": 1067,
          "user": {
            "displayName": "Dwaipayan Kundu",
            "photoUrl": "https://lh3.googleusercontent.com/a/default-user=s128",
            "userId": "102686349398832372219"
          }
        }
      },
      "cell_type": "code",
      "source": [
        "centers.head()"
      ],
      "execution_count": 226,
      "outputs": [
        {
          "output_type": "execute_result",
          "data": {
            "text/html": [
              "<div>\n",
              "<style scoped>\n",
              "    .dataframe tbody tr th:only-of-type {\n",
              "        vertical-align: middle;\n",
              "    }\n",
              "\n",
              "    .dataframe tbody tr th {\n",
              "        vertical-align: top;\n",
              "    }\n",
              "\n",
              "    .dataframe thead th {\n",
              "        text-align: right;\n",
              "    }\n",
              "</style>\n",
              "<table border=\"1\" class=\"dataframe\">\n",
              "  <thead>\n",
              "    <tr style=\"text-align: right;\">\n",
              "      <th></th>\n",
              "      <th>V1 - I plan my expenses…</th>\n",
              "      <th>V2 - I always use new brands…</th>\n",
              "      <th>V4 - Buy more by impulse while shopping…</th>\n",
              "      <th>V5 - Watch online rather than TV shows</th>\n",
              "      <th>V6 - Prefer reading, music rather than sports wctivities</th>\n",
              "      <th>V8 - I order for everyone while eating out</th>\n",
              "      <th>V15 - When I see a new, interesting ad I most often end up buying the brand</th>\n",
              "      <th>Q2 - Mobile Phn Brand</th>\n",
              "    </tr>\n",
              "  </thead>\n",
              "  <tbody>\n",
              "    <tr>\n",
              "      <th>0</th>\n",
              "      <td>0.605510</td>\n",
              "      <td>0.575458</td>\n",
              "      <td>0.663477</td>\n",
              "      <td>0.813255</td>\n",
              "      <td>0.644600</td>\n",
              "      <td>0.642041</td>\n",
              "      <td>0.503748</td>\n",
              "      <td>0.694785</td>\n",
              "    </tr>\n",
              "    <tr>\n",
              "      <th>1</th>\n",
              "      <td>0.883256</td>\n",
              "      <td>0.699254</td>\n",
              "      <td>0.923881</td>\n",
              "      <td>0.997690</td>\n",
              "      <td>0.365612</td>\n",
              "      <td>0.590118</td>\n",
              "      <td>0.746394</td>\n",
              "      <td>0.845807</td>\n",
              "    </tr>\n",
              "    <tr>\n",
              "      <th>2</th>\n",
              "      <td>0.798862</td>\n",
              "      <td>0.472246</td>\n",
              "      <td>0.150260</td>\n",
              "      <td>0.841044</td>\n",
              "      <td>0.397299</td>\n",
              "      <td>0.652594</td>\n",
              "      <td>0.364884</td>\n",
              "      <td>0.823800</td>\n",
              "    </tr>\n",
              "  </tbody>\n",
              "</table>\n",
              "</div>"
            ],
            "text/plain": [
              "   V1 - I plan my expenses…  V2 - I always use new brands…  \\\n",
              "0                  0.605510                       0.575458   \n",
              "1                  0.883256                       0.699254   \n",
              "2                  0.798862                       0.472246   \n",
              "\n",
              "   V4 - Buy more by impulse while shopping…  \\\n",
              "0                                  0.663477   \n",
              "1                                  0.923881   \n",
              "2                                  0.150260   \n",
              "\n",
              "   V5 - Watch online rather than TV shows  \\\n",
              "0                                0.813255   \n",
              "1                                0.997690   \n",
              "2                                0.841044   \n",
              "\n",
              "   V6 - Prefer reading, music rather than sports wctivities  \\\n",
              "0                                           0.644600          \n",
              "1                                           0.365612          \n",
              "2                                           0.397299          \n",
              "\n",
              "   V8 - I order for everyone while eating out  \\\n",
              "0                                    0.642041   \n",
              "1                                    0.590118   \n",
              "2                                    0.652594   \n",
              "\n",
              "   V15 - When I see a new, interesting ad I most often end up buying the brand  \\\n",
              "0                                           0.503748                             \n",
              "1                                           0.746394                             \n",
              "2                                           0.364884                             \n",
              "\n",
              "   Q2 - Mobile Phn Brand  \n",
              "0               0.694785  \n",
              "1               0.845807  \n",
              "2               0.823800  "
            ]
          },
          "metadata": {
            "tags": []
          },
          "execution_count": 226
        }
      ]
    },
    {
      "metadata": {
        "id": "uvzRX59qLOOi",
        "colab_type": "code",
        "colab": {
          "autoexec": {
            "startup": false,
            "wait_interval": 0
          }
        }
      },
      "cell_type": "code",
      "source": [
        "c_original = mm.inverse_transform(centers)"
      ],
      "execution_count": 0,
      "outputs": []
    },
    {
      "metadata": {
        "id": "DJ2fsi-nLOSN",
        "colab_type": "code",
        "colab": {
          "autoexec": {
            "startup": false,
            "wait_interval": 0
          }
        }
      },
      "cell_type": "code",
      "source": [
        "c_original = pd.DataFrame(c_original , columns = ['V1 - I plan my expenses…',\n",
        "       'V2 - I always use new brands…',\n",
        "       'V4 - Buy more by impulse while shopping…',\n",
        "       'V5 - Watch online rather than TV shows',\n",
        "       'V6 - Prefer reading, music rather than sports wctivities',\n",
        "       'V8 - I order for everyone while eating out',\n",
        "       'V15 - When I see a new, interesting ad I most often end up buying the brand',\n",
        "       'Q2 - Mobile Phn Brand'])"
      ],
      "execution_count": 0,
      "outputs": []
    },
    {
      "metadata": {
        "id": "poaCF-0IL8Hq",
        "colab_type": "code",
        "colab": {
          "autoexec": {
            "startup": false,
            "wait_interval": 0
          },
          "base_uri": "https://localhost:8080/",
          "height": 193
        },
        "outputId": "d9a0b709-3437-4aeb-eed1-3e73177ba987",
        "executionInfo": {
          "status": "ok",
          "timestamp": 1528277496288,
          "user_tz": -330,
          "elapsed": 1102,
          "user": {
            "displayName": "Dwaipayan Kundu",
            "photoUrl": "https://lh3.googleusercontent.com/a/default-user=s128",
            "userId": "102686349398832372219"
          }
        }
      },
      "cell_type": "code",
      "source": [
        "c_original.round()"
      ],
      "execution_count": 229,
      "outputs": [
        {
          "output_type": "execute_result",
          "data": {
            "text/html": [
              "<div>\n",
              "<style scoped>\n",
              "    .dataframe tbody tr th:only-of-type {\n",
              "        vertical-align: middle;\n",
              "    }\n",
              "\n",
              "    .dataframe tbody tr th {\n",
              "        vertical-align: top;\n",
              "    }\n",
              "\n",
              "    .dataframe thead th {\n",
              "        text-align: right;\n",
              "    }\n",
              "</style>\n",
              "<table border=\"1\" class=\"dataframe\">\n",
              "  <thead>\n",
              "    <tr style=\"text-align: right;\">\n",
              "      <th></th>\n",
              "      <th>V1 - I plan my expenses…</th>\n",
              "      <th>V2 - I always use new brands…</th>\n",
              "      <th>V4 - Buy more by impulse while shopping…</th>\n",
              "      <th>V5 - Watch online rather than TV shows</th>\n",
              "      <th>V6 - Prefer reading, music rather than sports wctivities</th>\n",
              "      <th>V8 - I order for everyone while eating out</th>\n",
              "      <th>V15 - When I see a new, interesting ad I most often end up buying the brand</th>\n",
              "      <th>Q2 - Mobile Phn Brand</th>\n",
              "    </tr>\n",
              "  </thead>\n",
              "  <tbody>\n",
              "    <tr>\n",
              "      <th>0</th>\n",
              "      <td>6.0</td>\n",
              "      <td>6.0</td>\n",
              "      <td>7.0</td>\n",
              "      <td>8.0</td>\n",
              "      <td>6.0</td>\n",
              "      <td>6.0</td>\n",
              "      <td>5.0</td>\n",
              "      <td>5.0</td>\n",
              "    </tr>\n",
              "    <tr>\n",
              "      <th>1</th>\n",
              "      <td>9.0</td>\n",
              "      <td>7.0</td>\n",
              "      <td>9.0</td>\n",
              "      <td>10.0</td>\n",
              "      <td>4.0</td>\n",
              "      <td>6.0</td>\n",
              "      <td>7.0</td>\n",
              "      <td>6.0</td>\n",
              "    </tr>\n",
              "    <tr>\n",
              "      <th>2</th>\n",
              "      <td>8.0</td>\n",
              "      <td>5.0</td>\n",
              "      <td>2.0</td>\n",
              "      <td>8.0</td>\n",
              "      <td>4.0</td>\n",
              "      <td>7.0</td>\n",
              "      <td>4.0</td>\n",
              "      <td>6.0</td>\n",
              "    </tr>\n",
              "  </tbody>\n",
              "</table>\n",
              "</div>"
            ],
            "text/plain": [
              "   V1 - I plan my expenses…  V2 - I always use new brands…  \\\n",
              "0                       6.0                            6.0   \n",
              "1                       9.0                            7.0   \n",
              "2                       8.0                            5.0   \n",
              "\n",
              "   V4 - Buy more by impulse while shopping…  \\\n",
              "0                                       7.0   \n",
              "1                                       9.0   \n",
              "2                                       2.0   \n",
              "\n",
              "   V5 - Watch online rather than TV shows  \\\n",
              "0                                     8.0   \n",
              "1                                    10.0   \n",
              "2                                     8.0   \n",
              "\n",
              "   V6 - Prefer reading, music rather than sports wctivities  \\\n",
              "0                                                6.0          \n",
              "1                                                4.0          \n",
              "2                                                4.0          \n",
              "\n",
              "   V8 - I order for everyone while eating out  \\\n",
              "0                                         6.0   \n",
              "1                                         6.0   \n",
              "2                                         7.0   \n",
              "\n",
              "   V15 - When I see a new, interesting ad I most often end up buying the brand  \\\n",
              "0                                                5.0                             \n",
              "1                                                7.0                             \n",
              "2                                                4.0                             \n",
              "\n",
              "   Q2 - Mobile Phn Brand  \n",
              "0                    5.0  \n",
              "1                    6.0  \n",
              "2                    6.0  "
            ]
          },
          "metadata": {
            "tags": []
          },
          "execution_count": 229
        }
      ]
    },
    {
      "metadata": {
        "id": "WP3JaceecLJI",
        "colab_type": "code",
        "colab": {
          "autoexec": {
            "startup": false,
            "wait_interval": 0
          }
        }
      },
      "cell_type": "code",
      "source": [
        "d = mm.inverse_transform(df_phone)"
      ],
      "execution_count": 0,
      "outputs": []
    },
    {
      "metadata": {
        "id": "xwp5YGOEWec7",
        "colab_type": "code",
        "colab": {
          "autoexec": {
            "startup": false,
            "wait_interval": 0
          }
        }
      },
      "cell_type": "code",
      "source": [
        "d = pd.DataFrame(d , columns = ['V1 - I plan my expenses…',\n",
        "       'V2 - I always use new brands…',\n",
        "       'V4 - Buy more by impulse while shopping…',\n",
        "       'V5 - Watch online rather than TV shows',\n",
        "       'V6 - Prefer reading, music rather than sports wctivities',\n",
        "       'V8 - I order for everyone while eating out',\n",
        "       'V15 - When I see a new, interesting ad I most often end up buying the brand',\n",
        "       'Q2 - Mobile Phn Brand'])"
      ],
      "execution_count": 0,
      "outputs": []
    },
    {
      "metadata": {
        "id": "QHi2dz_XUfe9",
        "colab_type": "code",
        "colab": {
          "autoexec": {
            "startup": false,
            "wait_interval": 0
          }
        }
      },
      "cell_type": "code",
      "source": [
        "df_phone = pd.concat([d, pd.DataFrame(k_means.labels_, columns = ['Labels'])], axis = 1)"
      ],
      "execution_count": 0,
      "outputs": []
    },
    {
      "metadata": {
        "id": "SFLEGM7aU-QM",
        "colab_type": "code",
        "colab": {
          "autoexec": {
            "startup": false,
            "wait_interval": 0
          },
          "base_uri": "https://localhost:8080/",
          "height": 255
        },
        "outputId": "c25fa7a8-a321-462a-c21b-a7f3ad4a8678",
        "executionInfo": {
          "status": "ok",
          "timestamp": 1528277572611,
          "user_tz": -330,
          "elapsed": 1144,
          "user": {
            "displayName": "Dwaipayan Kundu",
            "photoUrl": "https://lh3.googleusercontent.com/a/default-user=s128",
            "userId": "102686349398832372219"
          }
        }
      },
      "cell_type": "code",
      "source": [
        "df_phone.head()"
      ],
      "execution_count": 234,
      "outputs": [
        {
          "output_type": "execute_result",
          "data": {
            "text/html": [
              "<div>\n",
              "<style scoped>\n",
              "    .dataframe tbody tr th:only-of-type {\n",
              "        vertical-align: middle;\n",
              "    }\n",
              "\n",
              "    .dataframe tbody tr th {\n",
              "        vertical-align: top;\n",
              "    }\n",
              "\n",
              "    .dataframe thead th {\n",
              "        text-align: right;\n",
              "    }\n",
              "</style>\n",
              "<table border=\"1\" class=\"dataframe\">\n",
              "  <thead>\n",
              "    <tr style=\"text-align: right;\">\n",
              "      <th></th>\n",
              "      <th>V1 - I plan my expenses…</th>\n",
              "      <th>V2 - I always use new brands…</th>\n",
              "      <th>V4 - Buy more by impulse while shopping…</th>\n",
              "      <th>V5 - Watch online rather than TV shows</th>\n",
              "      <th>V6 - Prefer reading, music rather than sports wctivities</th>\n",
              "      <th>V8 - I order for everyone while eating out</th>\n",
              "      <th>V15 - When I see a new, interesting ad I most often end up buying the brand</th>\n",
              "      <th>Q2 - Mobile Phn Brand</th>\n",
              "      <th>Labels</th>\n",
              "    </tr>\n",
              "  </thead>\n",
              "  <tbody>\n",
              "    <tr>\n",
              "      <th>0</th>\n",
              "      <td>4.0</td>\n",
              "      <td>9.0</td>\n",
              "      <td>6.0</td>\n",
              "      <td>9.0</td>\n",
              "      <td>8.0</td>\n",
              "      <td>8.0</td>\n",
              "      <td>7.0</td>\n",
              "      <td>6.0</td>\n",
              "      <td>0</td>\n",
              "    </tr>\n",
              "    <tr>\n",
              "      <th>1</th>\n",
              "      <td>9.0</td>\n",
              "      <td>6.0</td>\n",
              "      <td>1.0</td>\n",
              "      <td>5.0</td>\n",
              "      <td>9.0</td>\n",
              "      <td>8.0</td>\n",
              "      <td>2.0</td>\n",
              "      <td>5.0</td>\n",
              "      <td>0</td>\n",
              "    </tr>\n",
              "    <tr>\n",
              "      <th>2</th>\n",
              "      <td>4.0</td>\n",
              "      <td>6.0</td>\n",
              "      <td>7.0</td>\n",
              "      <td>6.0</td>\n",
              "      <td>5.0</td>\n",
              "      <td>5.0</td>\n",
              "      <td>3.0</td>\n",
              "      <td>1.0</td>\n",
              "      <td>0</td>\n",
              "    </tr>\n",
              "    <tr>\n",
              "      <th>3</th>\n",
              "      <td>6.0</td>\n",
              "      <td>9.0</td>\n",
              "      <td>10.0</td>\n",
              "      <td>10.0</td>\n",
              "      <td>5.0</td>\n",
              "      <td>5.0</td>\n",
              "      <td>6.0</td>\n",
              "      <td>5.0</td>\n",
              "      <td>1</td>\n",
              "    </tr>\n",
              "    <tr>\n",
              "      <th>4</th>\n",
              "      <td>8.0</td>\n",
              "      <td>1.0</td>\n",
              "      <td>7.0</td>\n",
              "      <td>8.0</td>\n",
              "      <td>9.0</td>\n",
              "      <td>1.0</td>\n",
              "      <td>2.0</td>\n",
              "      <td>5.0</td>\n",
              "      <td>0</td>\n",
              "    </tr>\n",
              "  </tbody>\n",
              "</table>\n",
              "</div>"
            ],
            "text/plain": [
              "   V1 - I plan my expenses…  V2 - I always use new brands…  \\\n",
              "0                       4.0                            9.0   \n",
              "1                       9.0                            6.0   \n",
              "2                       4.0                            6.0   \n",
              "3                       6.0                            9.0   \n",
              "4                       8.0                            1.0   \n",
              "\n",
              "   V4 - Buy more by impulse while shopping…  \\\n",
              "0                                       6.0   \n",
              "1                                       1.0   \n",
              "2                                       7.0   \n",
              "3                                      10.0   \n",
              "4                                       7.0   \n",
              "\n",
              "   V5 - Watch online rather than TV shows  \\\n",
              "0                                     9.0   \n",
              "1                                     5.0   \n",
              "2                                     6.0   \n",
              "3                                    10.0   \n",
              "4                                     8.0   \n",
              "\n",
              "   V6 - Prefer reading, music rather than sports wctivities  \\\n",
              "0                                                8.0          \n",
              "1                                                9.0          \n",
              "2                                                5.0          \n",
              "3                                                5.0          \n",
              "4                                                9.0          \n",
              "\n",
              "   V8 - I order for everyone while eating out  \\\n",
              "0                                         8.0   \n",
              "1                                         8.0   \n",
              "2                                         5.0   \n",
              "3                                         5.0   \n",
              "4                                         1.0   \n",
              "\n",
              "   V15 - When I see a new, interesting ad I most often end up buying the brand  \\\n",
              "0                                                7.0                             \n",
              "1                                                2.0                             \n",
              "2                                                3.0                             \n",
              "3                                                6.0                             \n",
              "4                                                2.0                             \n",
              "\n",
              "   Q2 - Mobile Phn Brand  Labels  \n",
              "0                    6.0       0  \n",
              "1                    5.0       0  \n",
              "2                    1.0       0  \n",
              "3                    5.0       1  \n",
              "4                    5.0       0  "
            ]
          },
          "metadata": {
            "tags": []
          },
          "execution_count": 234
        }
      ]
    },
    {
      "metadata": {
        "id": "7sLW5bVXWOGU",
        "colab_type": "code",
        "colab": {
          "autoexec": {
            "startup": false,
            "wait_interval": 0
          },
          "base_uri": "https://localhost:8080/",
          "height": 71
        },
        "outputId": "f341811f-301b-49eb-94b4-cb0cc235dadb",
        "executionInfo": {
          "status": "ok",
          "timestamp": 1528277638768,
          "user_tz": -330,
          "elapsed": 1338,
          "user": {
            "displayName": "Dwaipayan Kundu",
            "photoUrl": "https://lh3.googleusercontent.com/a/default-user=s128",
            "userId": "102686349398832372219"
          }
        }
      },
      "cell_type": "code",
      "source": [
        "df_phone['Q2 - Mobile Phn Brand'] = le.inverse_transform(df_phone['Q2 - Mobile Phn Brand'].apply(lambda x: int(x)))"
      ],
      "execution_count": 236,
      "outputs": [
        {
          "output_type": "stream",
          "text": [
            "/usr/local/lib/python3.6/dist-packages/sklearn/preprocessing/label.py:151: DeprecationWarning: The truth value of an empty array is ambiguous. Returning False, but in future this will result in an error. Use `array.size > 0` to check that an array is not empty.\n",
            "  if diff:\n"
          ],
          "name": "stderr"
        }
      ]
    },
    {
      "metadata": {
        "id": "KtfrJxV0VGMQ",
        "colab_type": "code",
        "colab": {
          "autoexec": {
            "startup": false,
            "wait_interval": 0
          },
          "base_uri": "https://localhost:8080/",
          "height": 384
        },
        "outputId": "8fa905cc-d7f3-416c-9d31-fe0cbac08f6b",
        "executionInfo": {
          "status": "ok",
          "timestamp": 1528277653961,
          "user_tz": -330,
          "elapsed": 1341,
          "user": {
            "displayName": "Dwaipayan Kundu",
            "photoUrl": "https://lh3.googleusercontent.com/a/default-user=s128",
            "userId": "102686349398832372219"
          }
        }
      },
      "cell_type": "code",
      "source": [
        "sns.set(font_scale=0.8)\n",
        "sns.set(rc={'figure.figsize':(10,5)})\n",
        "\n",
        "df_p = df_phone.groupby(['Q2 - Mobile Phn Brand', 'Labels']).size().unstack()\n",
        "df_p.round()\n",
        "#df_p = df_p / df_p.sum()\n",
        "df_p.plot(kind = 'bar')"
      ],
      "execution_count": 237,
      "outputs": [
        {
          "output_type": "execute_result",
          "data": {
            "text/plain": [
              "<matplotlib.axes._subplots.AxesSubplot at 0x7f2afc662fd0>"
            ]
          },
          "metadata": {
            "tags": []
          },
          "execution_count": 237
        },
        {
          "output_type": "display_data",
          "data": {
            "image/png": "[encoded data removed]",
            "text/plain": [
              "<matplotlib.figure.Figure at 0x7f2afc69c128>"
            ]
          },
          "metadata": {
            "tags": []
          }
        }
      ]
    },
    {
      "metadata": {
        "id": "Ws8i867kPoKP",
        "colab_type": "text"
      },
      "cell_type": "markdown",
      "source": [
        "## For Soft Drink Preferences"
      ]
    },
    {
      "metadata": {
        "id": "R-Hz_Ck1LObV",
        "colab_type": "code",
        "colab": {
          "autoexec": {
            "startup": false,
            "wait_interval": 0
          }
        }
      },
      "cell_type": "code",
      "source": [
        "df_drink = df[['V2 - I always use new brands…',\n",
        "       'V3 - Weekends at home with family…',\n",
        "       'V4 - Buy more by impulse while shopping…',\n",
        "       'V6 - Prefer reading, music rather than sports wctivities',\n",
        "       'V7 - Watch movies in first few days of release',\n",
        "       'V9 - Some physical exercise everyday',\n",
        "       'V15 - When I see a new, interesting ad I most often end up buying the brand', 'Q3 - Favourite Soft Drink']]"
      ],
      "execution_count": 0,
      "outputs": []
    },
    {
      "metadata": {
        "id": "DW_9gFw3Qk1y",
        "colab_type": "code",
        "colab": {
          "autoexec": {
            "startup": false,
            "wait_interval": 0
          },
          "base_uri": "https://localhost:8080/",
          "height": 306
        },
        "outputId": "359332cf-50d2-47ac-844f-6db746c545a7",
        "executionInfo": {
          "status": "ok",
          "timestamp": 1528277830278,
          "user_tz": -330,
          "elapsed": 1151,
          "user": {
            "displayName": "Dwaipayan Kundu",
            "photoUrl": "https://lh3.googleusercontent.com/a/default-user=s128",
            "userId": "102686349398832372219"
          }
        }
      },
      "cell_type": "code",
      "source": [
        "df_drink.head()"
      ],
      "execution_count": 239,
      "outputs": [
        {
          "output_type": "execute_result",
          "data": {
            "text/html": [
              "<div>\n",
              "<style scoped>\n",
              "    .dataframe tbody tr th:only-of-type {\n",
              "        vertical-align: middle;\n",
              "    }\n",
              "\n",
              "    .dataframe tbody tr th {\n",
              "        vertical-align: top;\n",
              "    }\n",
              "\n",
              "    .dataframe thead th {\n",
              "        text-align: right;\n",
              "    }\n",
              "</style>\n",
              "<table border=\"1\" class=\"dataframe\">\n",
              "  <thead>\n",
              "    <tr style=\"text-align: right;\">\n",
              "      <th></th>\n",
              "      <th>V2 - I always use new brands…</th>\n",
              "      <th>V3 - Weekends at home with family…</th>\n",
              "      <th>V4 - Buy more by impulse while shopping…</th>\n",
              "      <th>V6 - Prefer reading, music rather than sports wctivities</th>\n",
              "      <th>V7 - Watch movies in first few days of release</th>\n",
              "      <th>V9 - Some physical exercise everyday</th>\n",
              "      <th>V15 - When I see a new, interesting ad I most often end up buying the brand</th>\n",
              "      <th>Q3 - Favourite Soft Drink</th>\n",
              "    </tr>\n",
              "  </thead>\n",
              "  <tbody>\n",
              "    <tr>\n",
              "      <th>0</th>\n",
              "      <td>9</td>\n",
              "      <td>4</td>\n",
              "      <td>6</td>\n",
              "      <td>8</td>\n",
              "      <td>9</td>\n",
              "      <td>8</td>\n",
              "      <td>7</td>\n",
              "      <td>Cola</td>\n",
              "    </tr>\n",
              "    <tr>\n",
              "      <th>1</th>\n",
              "      <td>6</td>\n",
              "      <td>9</td>\n",
              "      <td>1</td>\n",
              "      <td>9</td>\n",
              "      <td>8</td>\n",
              "      <td>9</td>\n",
              "      <td>2</td>\n",
              "      <td>Orange</td>\n",
              "    </tr>\n",
              "    <tr>\n",
              "      <th>2</th>\n",
              "      <td>6</td>\n",
              "      <td>5</td>\n",
              "      <td>7</td>\n",
              "      <td>5</td>\n",
              "      <td>0</td>\n",
              "      <td>3</td>\n",
              "      <td>3</td>\n",
              "      <td>Fruit flavour</td>\n",
              "    </tr>\n",
              "    <tr>\n",
              "      <th>3</th>\n",
              "      <td>9</td>\n",
              "      <td>5</td>\n",
              "      <td>10</td>\n",
              "      <td>5</td>\n",
              "      <td>6</td>\n",
              "      <td>4</td>\n",
              "      <td>6</td>\n",
              "      <td>I do not consume soft drinks at all</td>\n",
              "    </tr>\n",
              "    <tr>\n",
              "      <th>4</th>\n",
              "      <td>1</td>\n",
              "      <td>9</td>\n",
              "      <td>7</td>\n",
              "      <td>9</td>\n",
              "      <td>1</td>\n",
              "      <td>7</td>\n",
              "      <td>2</td>\n",
              "      <td>Fruit flavour</td>\n",
              "    </tr>\n",
              "  </tbody>\n",
              "</table>\n",
              "</div>"
            ],
            "text/plain": [
              "   V2 - I always use new brands…  V3 - Weekends at home with family…  \\\n",
              "0                              9                                   4   \n",
              "1                              6                                   9   \n",
              "2                              6                                   5   \n",
              "3                              9                                   5   \n",
              "4                              1                                   9   \n",
              "\n",
              "   V4 - Buy more by impulse while shopping…  \\\n",
              "0                                         6   \n",
              "1                                         1   \n",
              "2                                         7   \n",
              "3                                        10   \n",
              "4                                         7   \n",
              "\n",
              "   V6 - Prefer reading, music rather than sports wctivities  \\\n",
              "0                                                  8          \n",
              "1                                                  9          \n",
              "2                                                  5          \n",
              "3                                                  5          \n",
              "4                                                  9          \n",
              "\n",
              "   V7 - Watch movies in first few days of release  \\\n",
              "0                                               9   \n",
              "1                                               8   \n",
              "2                                               0   \n",
              "3                                               6   \n",
              "4                                               1   \n",
              "\n",
              "   V9 - Some physical exercise everyday  \\\n",
              "0                                     8   \n",
              "1                                     9   \n",
              "2                                     3   \n",
              "3                                     4   \n",
              "4                                     7   \n",
              "\n",
              "   V15 - When I see a new, interesting ad I most often end up buying the brand  \\\n",
              "0                                                  7                             \n",
              "1                                                  2                             \n",
              "2                                                  3                             \n",
              "3                                                  6                             \n",
              "4                                                  2                             \n",
              "\n",
              "             Q3 - Favourite Soft Drink  \n",
              "0                                 Cola  \n",
              "1                               Orange  \n",
              "2                        Fruit flavour  \n",
              "3  I do not consume soft drinks at all  \n",
              "4                        Fruit flavour  "
            ]
          },
          "metadata": {
            "tags": []
          },
          "execution_count": 239
        }
      ]
    },
    {
      "metadata": {
        "id": "pZSOqHGzQ3Qa",
        "colab_type": "code",
        "colab": {
          "autoexec": {
            "startup": false,
            "wait_interval": 0
          },
          "base_uri": "https://localhost:8080/",
          "height": 139
        },
        "outputId": "c52cefd3-2530-4833-f1ca-e8b4635bdca4",
        "executionInfo": {
          "status": "ok",
          "timestamp": 1528277854651,
          "user_tz": -330,
          "elapsed": 1189,
          "user": {
            "displayName": "Dwaipayan Kundu",
            "photoUrl": "https://lh3.googleusercontent.com/a/default-user=s128",
            "userId": "102686349398832372219"
          }
        }
      },
      "cell_type": "code",
      "source": [
        "from sklearn.preprocessing import LabelEncoder\n",
        "le2 = LabelEncoder()\n",
        "\n",
        "df_drink['Q3 - Favourite Soft Drink'] = le2.fit_transform(df_drink['Q3 - Favourite Soft Drink'])"
      ],
      "execution_count": 240,
      "outputs": [
        {
          "output_type": "stream",
          "text": [
            "/usr/local/lib/python3.6/dist-packages/ipykernel_launcher.py:4: SettingWithCopyWarning: \n",
            "A value is trying to be set on a copy of a slice from a DataFrame.\n",
            "Try using .loc[row_indexer,col_indexer] = value instead\n",
            "\n",
            "See the caveats in the documentation: http://pandas.pydata.org/pandas-docs/stable/indexing.html#indexing-view-versus-copy\n",
            "  after removing the cwd from sys.path.\n"
          ],
          "name": "stderr"
        }
      ]
    },
    {
      "metadata": {
        "id": "UJlUzII_Q3Qg",
        "colab_type": "code",
        "colab": {
          "autoexec": {
            "startup": false,
            "wait_interval": 0
          }
        }
      },
      "cell_type": "code",
      "source": [
        "from  sklearn.preprocessing import MinMaxScaler\n",
        "\n",
        "mm = MinMaxScaler()\n",
        "\n",
        "df_drink = pd.DataFrame(mm.fit_transform(df_drink))\n"
      ],
      "execution_count": 0,
      "outputs": []
    },
    {
      "metadata": {
        "id": "3f554p3lQcP2",
        "colab_type": "code",
        "colab": {
          "autoexec": {
            "startup": false,
            "wait_interval": 0
          }
        }
      },
      "cell_type": "code",
      "source": [
        "k_means = KMeans(n_clusters = 3, n_jobs = -1)"
      ],
      "execution_count": 0,
      "outputs": []
    },
    {
      "metadata": {
        "id": "OK1pb8-6QcP7",
        "colab_type": "code",
        "colab": {
          "autoexec": {
            "startup": false,
            "wait_interval": 0
          },
          "base_uri": "https://localhost:8080/",
          "height": 68
        },
        "outputId": "b06d7c8e-98d4-4ef2-ff45-22aaddbd20eb",
        "executionInfo": {
          "status": "ok",
          "timestamp": 1528277866267,
          "user_tz": -330,
          "elapsed": 1100,
          "user": {
            "displayName": "Dwaipayan Kundu",
            "photoUrl": "https://lh3.googleusercontent.com/a/default-user=s128",
            "userId": "102686349398832372219"
          }
        }
      },
      "cell_type": "code",
      "source": [
        "k_means.fit(df_drink)"
      ],
      "execution_count": 243,
      "outputs": [
        {
          "output_type": "execute_result",
          "data": {
            "text/plain": [
              "KMeans(algorithm='auto', copy_x=True, init='k-means++', max_iter=300,\n",
              "    n_clusters=3, n_init=10, n_jobs=-1, precompute_distances='auto',\n",
              "    random_state=None, tol=0.0001, verbose=0)"
            ]
          },
          "metadata": {
            "tags": []
          },
          "execution_count": 243
        }
      ]
    },
    {
      "metadata": {
        "id": "sZCGWSrjQcP_",
        "colab_type": "code",
        "colab": {
          "autoexec": {
            "startup": false,
            "wait_interval": 0
          },
          "base_uri": "https://localhost:8080/",
          "height": 34
        },
        "outputId": "6b27cca7-f4ff-49eb-a023-e5825834174e",
        "executionInfo": {
          "status": "ok",
          "timestamp": 1528277870044,
          "user_tz": -330,
          "elapsed": 1304,
          "user": {
            "displayName": "Dwaipayan Kundu",
            "photoUrl": "https://lh3.googleusercontent.com/a/default-user=s128",
            "userId": "102686349398832372219"
          }
        }
      },
      "cell_type": "code",
      "source": [
        "print( 'Silhouette Score : ' + str(silhouette_score(df_drink, k_means.labels_)))"
      ],
      "execution_count": 244,
      "outputs": [
        {
          "output_type": "stream",
          "text": [
            "Silhouette Score : 0.14478872586290106\n"
          ],
          "name": "stdout"
        }
      ]
    },
    {
      "metadata": {
        "id": "ddjx6_lrLOhl",
        "colab_type": "code",
        "colab": {
          "autoexec": {
            "startup": false,
            "wait_interval": 0
          }
        }
      },
      "cell_type": "code",
      "source": [
        ""
      ],
      "execution_count": 0,
      "outputs": []
    },
    {
      "metadata": {
        "id": "GuUvyOIZQM5C",
        "colab_type": "code",
        "colab": {
          "autoexec": {
            "startup": false,
            "wait_interval": 0
          }
        }
      },
      "cell_type": "code",
      "source": [
        ""
      ],
      "execution_count": 0,
      "outputs": []
    },
    {
      "metadata": {
        "id": "P25Ub4kxQNQE",
        "colab_type": "code",
        "colab": {
          "autoexec": {
            "startup": false,
            "wait_interval": 0
          }
        }
      },
      "cell_type": "code",
      "source": [
        ""
      ],
      "execution_count": 0,
      "outputs": []
    },
    {
      "metadata": {
        "id": "RQzAMTuaQNUA",
        "colab_type": "code",
        "colab": {
          "autoexec": {
            "startup": false,
            "wait_interval": 0
          }
        }
      },
      "cell_type": "code",
      "source": [
        ""
      ],
      "execution_count": 0,
      "outputs": []
    },
    {
      "metadata": {
        "id": "bxx-GmP_QNMh",
        "colab_type": "code",
        "colab": {
          "autoexec": {
            "startup": false,
            "wait_interval": 0
          }
        }
      },
      "cell_type": "code",
      "source": [
        ""
      ],
      "execution_count": 0,
      "outputs": []
    },
    {
      "metadata": {
        "id": "Uue3Zq_lQNJk",
        "colab_type": "code",
        "colab": {
          "autoexec": {
            "startup": false,
            "wait_interval": 0
          }
        }
      },
      "cell_type": "code",
      "source": [
        ""
      ],
      "execution_count": 0,
      "outputs": []
    },
    {
      "metadata": {
        "id": "X5fjU5zWQNGF",
        "colab_type": "code",
        "colab": {
          "autoexec": {
            "startup": false,
            "wait_interval": 0
          }
        }
      },
      "cell_type": "code",
      "source": [
        ""
      ],
      "execution_count": 0,
      "outputs": []
    },
    {
      "metadata": {
        "id": "OBwETlFgQNDd",
        "colab_type": "code",
        "colab": {
          "autoexec": {
            "startup": false,
            "wait_interval": 0
          }
        }
      },
      "cell_type": "code",
      "source": [
        ""
      ],
      "execution_count": 0,
      "outputs": []
    },
    {
      "metadata": {
        "id": "ULN06A5JQNAU",
        "colab_type": "code",
        "colab": {
          "autoexec": {
            "startup": false,
            "wait_interval": 0
          }
        }
      },
      "cell_type": "code",
      "source": [
        ""
      ],
      "execution_count": 0,
      "outputs": []
    },
    {
      "metadata": {
        "id": "O9R8MhqMQM9Z",
        "colab_type": "code",
        "colab": {
          "autoexec": {
            "startup": false,
            "wait_interval": 0
          }
        }
      },
      "cell_type": "code",
      "source": [
        ""
      ],
      "execution_count": 0,
      "outputs": []
    },
    {
      "metadata": {
        "id": "3itMqq5kLOfh",
        "colab_type": "code",
        "colab": {
          "autoexec": {
            "startup": false,
            "wait_interval": 0
          }
        }
      },
      "cell_type": "code",
      "source": [
        ""
      ],
      "execution_count": 0,
      "outputs": []
    },
    {
      "metadata": {
        "id": "HX6MFtiqLOYO",
        "colab_type": "code",
        "colab": {
          "autoexec": {
            "startup": false,
            "wait_interval": 0
          }
        }
      },
      "cell_type": "code",
      "source": [
        ""
      ],
      "execution_count": 0,
      "outputs": []
    },
    {
      "metadata": {
        "id": "WJkfW8ImLOV5",
        "colab_type": "code",
        "colab": {
          "autoexec": {
            "startup": false,
            "wait_interval": 0
          }
        }
      },
      "cell_type": "code",
      "source": [
        ""
      ],
      "execution_count": 0,
      "outputs": []
    },
    {
      "metadata": {
        "id": "b_uYd-fl5vZv",
        "colab_type": "text"
      },
      "cell_type": "markdown",
      "source": [
        "# Basic EDA"
      ]
    },
    {
      "metadata": {
        "id": "bLcW3tkc5bSM",
        "colab_type": "code",
        "colab": {
          "autoexec": {
            "startup": false,
            "wait_interval": 0
          },
          "base_uri": "https://localhost:8080/",
          "height": 285
        },
        "outputId": "2d3ca805-58f9-43fa-b924-40e419efe4c8",
        "executionInfo": {
          "status": "ok",
          "timestamp": 1528268539454,
          "user_tz": -330,
          "elapsed": 1192,
          "user": {
            "displayName": "Dwaipayan Kundu",
            "photoUrl": "https://lh3.googleusercontent.com/a/default-user=s128",
            "userId": "102686349398832372219"
          }
        }
      },
      "cell_type": "code",
      "source": [
        "df['V2 - I always use new brands…'].hist()"
      ],
      "execution_count": 10,
      "outputs": [
        {
          "output_type": "execute_result",
          "data": {
            "text/plain": [
              "<matplotlib.axes._subplots.AxesSubplot at 0x7f2b072e2a20>"
            ]
          },
          "metadata": {
            "tags": []
          },
          "execution_count": 10
        },
        {
          "output_type": "display_data",
          "data": {
            "image/png": "[encoded data removed]",
            "text/plain": [
              "<matplotlib.figure.Figure at 0x7f2b071fa630>"
            ]
          },
          "metadata": {
            "tags": []
          }
        }
      ]
    },
    {
      "metadata": {
        "id": "Eory_I1q5bXf",
        "colab_type": "code",
        "colab": {
          "autoexec": {
            "startup": false,
            "wait_interval": 0
          }
        }
      },
      "cell_type": "code",
      "source": [
        ""
      ],
      "execution_count": 0,
      "outputs": []
    },
    {
      "metadata": {
        "id": "1m99Zjgq5bal",
        "colab_type": "code",
        "colab": {
          "autoexec": {
            "startup": false,
            "wait_interval": 0
          }
        }
      },
      "cell_type": "code",
      "source": [
        ""
      ],
      "execution_count": 0,
      "outputs": []
    },
    {
      "metadata": {
        "id": "3yGsr72s5bdv",
        "colab_type": "code",
        "colab": {
          "autoexec": {
            "startup": false,
            "wait_interval": 0
          }
        }
      },
      "cell_type": "code",
      "source": [
        ""
      ],
      "execution_count": 0,
      "outputs": []
    },
    {
      "metadata": {
        "id": "mnMfZPoa5bgq",
        "colab_type": "code",
        "colab": {
          "autoexec": {
            "startup": false,
            "wait_interval": 0
          }
        }
      },
      "cell_type": "code",
      "source": [
        ""
      ],
      "execution_count": 0,
      "outputs": []
    },
    {
      "metadata": {
        "id": "_rulQQgZ5bjK",
        "colab_type": "code",
        "colab": {
          "autoexec": {
            "startup": false,
            "wait_interval": 0
          }
        }
      },
      "cell_type": "code",
      "source": [
        ""
      ],
      "execution_count": 0,
      "outputs": []
    },
    {
      "metadata": {
        "id": "SN0zZ8uQ5bl5",
        "colab_type": "code",
        "colab": {
          "autoexec": {
            "startup": false,
            "wait_interval": 0
          }
        }
      },
      "cell_type": "code",
      "source": [
        ""
      ],
      "execution_count": 0,
      "outputs": []
    },
    {
      "metadata": {
        "id": "-uBOpScr5brU",
        "colab_type": "code",
        "colab": {
          "autoexec": {
            "startup": false,
            "wait_interval": 0
          }
        }
      },
      "cell_type": "code",
      "source": [
        ""
      ],
      "execution_count": 0,
      "outputs": []
    },
    {
      "metadata": {
        "id": "lWlXsZo55buV",
        "colab_type": "code",
        "colab": {
          "autoexec": {
            "startup": false,
            "wait_interval": 0
          }
        }
      },
      "cell_type": "code",
      "source": [
        ""
      ],
      "execution_count": 0,
      "outputs": []
    },
    {
      "metadata": {
        "id": "mnIYhFDk5bxb",
        "colab_type": "code",
        "colab": {
          "autoexec": {
            "startup": false,
            "wait_interval": 0
          }
        }
      },
      "cell_type": "code",
      "source": [
        ""
      ],
      "execution_count": 0,
      "outputs": []
    },
    {
      "metadata": {
        "id": "JF61aFRQ5b0V",
        "colab_type": "code",
        "colab": {
          "autoexec": {
            "startup": false,
            "wait_interval": 0
          }
        }
      },
      "cell_type": "code",
      "source": [
        ""
      ],
      "execution_count": 0,
      "outputs": []
    },
    {
      "metadata": {
        "id": "17AQfroX5b3l",
        "colab_type": "code",
        "colab": {
          "autoexec": {
            "startup": false,
            "wait_interval": 0
          }
        }
      },
      "cell_type": "code",
      "source": [
        ""
      ],
      "execution_count": 0,
      "outputs": []
    },
    {
      "metadata": {
        "id": "HYO1skb55b69",
        "colab_type": "code",
        "colab": {
          "autoexec": {
            "startup": false,
            "wait_interval": 0
          }
        }
      },
      "cell_type": "code",
      "source": [
        ""
      ],
      "execution_count": 0,
      "outputs": []
    },
    {
      "metadata": {
        "id": "sgk5AHvm5b-6",
        "colab_type": "code",
        "colab": {
          "autoexec": {
            "startup": false,
            "wait_interval": 0
          }
        }
      },
      "cell_type": "code",
      "source": [
        ""
      ],
      "execution_count": 0,
      "outputs": []
    },
    {
      "metadata": {
        "id": "BIPdcAPs4gk1",
        "colab_type": "code",
        "colab": {
          "autoexec": {
            "startup": false,
            "wait_interval": 0
          }
        }
      },
      "cell_type": "code",
      "source": [
        ""
      ],
      "execution_count": 0,
      "outputs": []
    },
    {
      "metadata": {
        "id": "-y7i7HDI4gnU",
        "colab_type": "code",
        "colab": {
          "autoexec": {
            "startup": false,
            "wait_interval": 0
          }
        }
      },
      "cell_type": "code",
      "source": [
        ""
      ],
      "execution_count": 0,
      "outputs": []
    },
    {
      "metadata": {
        "id": "SN3mt6b64gpm",
        "colab_type": "code",
        "colab": {
          "autoexec": {
            "startup": false,
            "wait_interval": 0
          }
        }
      },
      "cell_type": "code",
      "source": [
        ""
      ],
      "execution_count": 0,
      "outputs": []
    },
    {
      "metadata": {
        "id": "3VM372AC4gsA",
        "colab_type": "code",
        "colab": {
          "autoexec": {
            "startup": false,
            "wait_interval": 0
          }
        }
      },
      "cell_type": "code",
      "source": [
        ""
      ],
      "execution_count": 0,
      "outputs": []
    },
    {
      "metadata": {
        "id": "Dz0Xl5UD4gu1",
        "colab_type": "code",
        "colab": {
          "autoexec": {
            "startup": false,
            "wait_interval": 0
          }
        }
      },
      "cell_type": "code",
      "source": [
        ""
      ],
      "execution_count": 0,
      "outputs": []
    },
    {
      "metadata": {
        "id": "djJdGuCu4gxb",
        "colab_type": "code",
        "colab": {
          "autoexec": {
            "startup": false,
            "wait_interval": 0
          }
        }
      },
      "cell_type": "code",
      "source": [
        ""
      ],
      "execution_count": 0,
      "outputs": []
    },
    {
      "metadata": {
        "id": "n1ckOPLY4g0V",
        "colab_type": "code",
        "colab": {
          "autoexec": {
            "startup": false,
            "wait_interval": 0
          }
        }
      },
      "cell_type": "code",
      "source": [
        ""
      ],
      "execution_count": 0,
      "outputs": []
    },
    {
      "metadata": {
        "id": "N3CmaVzw4g2p",
        "colab_type": "code",
        "colab": {
          "autoexec": {
            "startup": false,
            "wait_interval": 0
          }
        }
      },
      "cell_type": "code",
      "source": [
        ""
      ],
      "execution_count": 0,
      "outputs": []
    },
    {
      "metadata": {
        "id": "NkGNLgU64g5B",
        "colab_type": "code",
        "colab": {
          "autoexec": {
            "startup": false,
            "wait_interval": 0
          }
        }
      },
      "cell_type": "code",
      "source": [
        ""
      ],
      "execution_count": 0,
      "outputs": []
    },
    {
      "metadata": {
        "id": "KHuOpJWk4g8A",
        "colab_type": "code",
        "colab": {
          "autoexec": {
            "startup": false,
            "wait_interval": 0
          }
        }
      },
      "cell_type": "code",
      "source": [
        ""
      ],
      "execution_count": 0,
      "outputs": []
    },
    {
      "metadata": {
        "id": "bO00kYab4g-H",
        "colab_type": "code",
        "colab": {
          "autoexec": {
            "startup": false,
            "wait_interval": 0
          }
        }
      },
      "cell_type": "code",
      "source": [
        ""
      ],
      "execution_count": 0,
      "outputs": []
    },
    {
      "metadata": {
        "id": "yEstChnO4hAj",
        "colab_type": "code",
        "colab": {
          "autoexec": {
            "startup": false,
            "wait_interval": 0
          }
        }
      },
      "cell_type": "code",
      "source": [
        ""
      ],
      "execution_count": 0,
      "outputs": []
    },
    {
      "metadata": {
        "id": "x-WGxVKS4hHH",
        "colab_type": "code",
        "colab": {
          "autoexec": {
            "startup": false,
            "wait_interval": 0
          }
        }
      },
      "cell_type": "code",
      "source": [
        ""
      ],
      "execution_count": 0,
      "outputs": []
    }
  ]
}